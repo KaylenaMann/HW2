{
 "cells": [
  {
   "cell_type": "markdown",
   "id": "f16f234e-eb91-4a44-b604-6d4716e187b6",
   "metadata": {},
   "source": [
    "# HW2 Kaggle Competition: Stroke Prediction: End-to-End ML Pipeline"
   ]
  },
  {
   "cell_type": "markdown",
   "id": "bfd68b83-d74c-4360-8988-cae26767acd8",
   "metadata": {},
   "source": [
    "## Data loading and cleaning"
   ]
  },
  {
   "cell_type": "code",
   "execution_count": 1,
   "id": "f84cb0d0-fddf-49b4-9ec6-612409082bb9",
   "metadata": {
    "scrolled": true
   },
   "outputs": [
    {
     "name": "stdout",
     "output_type": "stream",
     "text": [
      "   id  gender   age  hypertension  heart_disease ever_married work_type  \\\n",
      "0   1    Male  50.0             0              0          Yes   Private   \n",
      "1   2  Female  52.0             0              0          Yes   Private   \n",
      "2   3  Female  26.0             0              0           No  Govt_job   \n",
      "3   4  Female  37.0             0              0          Yes   Private   \n",
      "4   5    Male  59.0             0              0          Yes   Private   \n",
      "\n",
      "  Residence_type  avg_glucose_level   bmi   smoking_status  stroke  \n",
      "0          Rural              88.10  29.1  formerly smoked       0  \n",
      "1          Rural              80.07  38.9           smokes       0  \n",
      "2          Urban              89.11  23.3           smokes       0  \n",
      "3          Rural              81.36  36.1     never smoked       0  \n",
      "4          Rural              82.59  29.6     never smoked       1  \n",
      "<class 'pandas.core.frame.DataFrame'>\n",
      "RangeIndex: 12243 entries, 0 to 12242\n",
      "Data columns (total 12 columns):\n",
      " #   Column             Non-Null Count  Dtype  \n",
      "---  ------             --------------  -----  \n",
      " 0   id                 12243 non-null  int64  \n",
      " 1   gender             12243 non-null  object \n",
      " 2   age                12243 non-null  float64\n",
      " 3   hypertension       12243 non-null  int64  \n",
      " 4   heart_disease      12243 non-null  int64  \n",
      " 5   ever_married       12243 non-null  object \n",
      " 6   work_type          12243 non-null  object \n",
      " 7   Residence_type     12243 non-null  object \n",
      " 8   avg_glucose_level  12243 non-null  float64\n",
      " 9   bmi                12243 non-null  float64\n",
      " 10  smoking_status     12243 non-null  object \n",
      " 11  stroke             12243 non-null  int64  \n",
      "dtypes: float64(3), int64(4), object(5)\n",
      "memory usage: 1.1+ MB\n",
      "None\n"
     ]
    }
   ],
   "source": [
    "import pandas as pd\n",
    "train_df = pd.read_csv(\"/Users/kaylenamann/Downloads/BC Grad/2025Fall_ADAN7430/assignments/HW2/RawData/train.csv\")\n",
    "print(train_df.head())\n",
    "print(train_df.info()) \n",
    "\n",
    "# importing variables of choice\n",
    "import statsmodels.api as sm\n",
    "feature_cols = ['gender', 'age', 'hypertension', 'heart_disease', 'Residence_type','avg_glucose_level', 'bmi', 'smoking_status']\n",
    "X = pd.get_dummies(train_df[feature_cols], drop_first=True)\n",
    "y = train_df['stroke']\n",
    "X = sm.add_constant(X, has_constant='add')\n",
    "X = X.astype(float)"
   ]
  },
  {
   "cell_type": "markdown",
   "id": "fbc5b361-8e0a-440b-ba3e-a984610cb7c7",
   "metadata": {},
   "source": [
    "Data looks good, with no missing values or unexpected results"
   ]
  },
  {
   "cell_type": "markdown",
   "id": "5744113f-3cb4-40c0-820a-067e0385cd9f",
   "metadata": {},
   "source": [
    "## Exploratory analysis "
   ]
  },
  {
   "cell_type": "markdown",
   "id": "6261563b-65e2-440b-9707-6b01e6bf07ff",
   "metadata": {},
   "source": [
    "### Checking the balance of our outcome"
   ]
  },
  {
   "cell_type": "code",
   "execution_count": 2,
   "id": "6bd5f4be-a244-47b0-b979-040c0b20daa1",
   "metadata": {},
   "outputs": [
    {
     "name": "stdout",
     "output_type": "stream",
     "text": [
      "Frequency Counts:\n",
      "stroke\n",
      "0    11737\n",
      "1      506\n",
      "Name: count, dtype: int64\n"
     ]
    }
   ],
   "source": [
    "stroke_counts = train_df['stroke'].value_counts()\n",
    "print(\"Frequency Counts:\")\n",
    "print(stroke_counts)"
   ]
  },
  {
   "cell_type": "markdown",
   "id": "33fa56d2-d82f-4293-944d-83476964d5bd",
   "metadata": {},
   "source": [
    "Our outcome is severely unbalanced, with far more non-strokes (0) than strokes (1), we should be mindful of this when tuning parameters and deciding on our model."
   ]
  },
  {
   "cell_type": "markdown",
   "id": "5ef5ae2b-14fc-48ba-a215-290533edc45b",
   "metadata": {},
   "source": [
    "### Correlations"
   ]
  },
  {
   "cell_type": "code",
   "execution_count": 3,
   "id": "1a373b6c-ba84-4b1d-a35a-d8e024a264cb",
   "metadata": {},
   "outputs": [
    {
     "name": "stdout",
     "output_type": "stream",
     "text": [
      "                   avg_glucose_level       bmi       age    gender  \\\n",
      "avg_glucose_level           1.000000  0.102402  0.104781  0.036219   \n",
      "bmi                         0.102402  1.000000  0.394478 -0.014654   \n",
      "age                         0.104781  0.394478  1.000000 -0.033510   \n",
      "gender                      0.036219 -0.014654 -0.033510  1.000000   \n",
      "hypertension                0.127983  0.109486  0.230497  0.013709   \n",
      "heart_disease               0.126950  0.058888  0.194991  0.060208   \n",
      "Residence_type             -0.016779  0.009969  0.015401 -0.000153   \n",
      "smoking_status              0.025856  0.262331  0.287528 -0.075070   \n",
      "\n",
      "                   hypertension  heart_disease  Residence_type  smoking_status  \n",
      "avg_glucose_level      0.127983       0.126950       -0.016779        0.025856  \n",
      "bmi                    0.109486       0.058888        0.009969        0.262331  \n",
      "age                    0.230497       0.194991        0.015401        0.287528  \n",
      "gender                 0.013709       0.060208       -0.000153       -0.075070  \n",
      "hypertension           1.000000       0.069772        0.000284        0.089692  \n",
      "heart_disease          0.069772       1.000000        0.008062        0.029041  \n",
      "Residence_type         0.000284       0.008062        1.000000        0.006340  \n",
      "smoking_status         0.089692       0.029041        0.006340        1.000000  \n"
     ]
    }
   ],
   "source": [
    "corr_df = train_df[['avg_glucose_level', 'bmi', 'age', 'gender', 'hypertension', 'heart_disease', 'Residence_type', 'smoking_status']].copy()\n",
    "\n",
    "from sklearn.preprocessing import LabelEncoder\n",
    "\n",
    "le_gender = LabelEncoder()\n",
    "le_residence = LabelEncoder()\n",
    "le_smoking = LabelEncoder()\n",
    "\n",
    "corr_df['gender'] = le_gender.fit_transform(corr_df['gender'])\n",
    "corr_df['Residence_type'] = le_residence.fit_transform(corr_df['Residence_type'])\n",
    "corr_df['smoking_status'] = le_smoking.fit_transform(corr_df['smoking_status'])\n",
    "\n",
    "corr = corr_df.corr()\n",
    "print(corr)"
   ]
  },
  {
   "cell_type": "markdown",
   "id": "99e77004-6acf-4396-8694-3eb83d6af7b5",
   "metadata": {},
   "source": [
    "Prior research has shown that smoking status is related to stroke indicators (Gan et al., 2018; Zhou et al., 2008), and can often interact. These correlations above add evidence to support this, with smoking having a moderate relationship with age and BMI. Additionally, BMI and age have a moderate relationship, so these interactions will be added to the model."
   ]
  },
  {
   "cell_type": "markdown",
   "id": "057ee6b7-9c75-4456-ae50-df11267c0503",
   "metadata": {},
   "source": [
    "### Centering metric features and creating interactions "
   ]
  },
  {
   "cell_type": "code",
   "execution_count": 4,
   "id": "735d8e7a-b441-4277-a5c4-671876a241e1",
   "metadata": {},
   "outputs": [],
   "source": [
    "from sklearn.model_selection import train_test_split\n",
    "import numpy as np\n",
    "from sklearn.preprocessing import StandardScaler\n",
    "\n",
    "# doing a train/test split (ON THE TRAINING DATA ONLY)\n",
    "X_train, X_test, y_train, y_test = train_test_split(X, y, test_size=0.3, random_state=39, stratify=y)\n",
    "X_test = X_test.reindex(columns=X_train.columns, fill_value=0)"
   ]
  },
  {
   "cell_type": "markdown",
   "id": "b5a12b30-3eb6-470e-8865-ccd53056f077",
   "metadata": {},
   "source": [
    "###  Running Diagnostic checks for non-linearity - Box-Tidwell\n",
    "\n",
    "sm.GLM was used here to conduct the Box-Tidwell test in order to see the actual coefficients and p-values. None of the log-transformed interaction terms were significant (*p* > .05), indicating that the assumption of linearity in the logit was likely met."
   ]
  },
  {
   "cell_type": "code",
   "execution_count": 5,
   "id": "48f9881e-bf47-4c8e-a0ba-3802c1a54a41",
   "metadata": {},
   "outputs": [
    {
     "name": "stdout",
     "output_type": "stream",
     "text": [
      "                 Generalized Linear Model Regression Results                  \n",
      "==============================================================================\n",
      "Dep. Variable:                 stroke   No. Observations:                 8570\n",
      "Model:                            GLM   Df Residuals:                     8558\n",
      "Model Family:                Binomial   Df Model:                           11\n",
      "Link Function:                  Logit   Scale:                          1.0000\n",
      "Method:                          IRLS   Log-Likelihood:                -1088.2\n",
      "Date:                Fri, 17 Oct 2025   Deviance:                       2176.4\n",
      "Time:                        16:24:55   Pearson chi2:                 6.33e+03\n",
      "No. Iterations:                    19   Pseudo R-squ. (CS):            0.08625\n",
      "Covariance Type:            nonrobust                                         \n",
      "==================================================================================================\n",
      "                                     coef    std err          z      P>|z|      [0.025      0.975]\n",
      "--------------------------------------------------------------------------------------------------\n",
      "const                            -10.0247      0.502    -19.979      0.000     -11.008      -9.041\n",
      "age                                0.0900      0.005     18.950      0.000       0.081       0.099\n",
      "hypertension                       0.2034      0.168      1.211      0.226      -0.126       0.533\n",
      "heart_disease                     -0.0112      0.212     -0.053      0.958      -0.427       0.404\n",
      "avg_glucose_level                  0.0093      0.001      6.639      0.000       0.007       0.012\n",
      "bmi                                0.0230      0.011      2.175      0.030       0.002       0.044\n",
      "gender_Male                        0.1566      0.121      1.294      0.196      -0.081       0.394\n",
      "gender_Other                     -12.6547   1.77e+04     -0.001      0.999   -3.48e+04    3.47e+04\n",
      "Residence_type_Urban              -0.0157      0.118     -0.133      0.894      -0.247       0.215\n",
      "smoking_status_formerly smoked    -0.0096      0.191     -0.050      0.960      -0.384       0.365\n",
      "smoking_status_never smoked        0.1744      0.171      1.020      0.308      -0.161       0.509\n",
      "smoking_status_smokes              0.4035      0.212      1.904      0.057      -0.012       0.819\n",
      "==================================================================================================\n",
      "Original AIC: 2200.3581126142994\n",
      "Box–Tidwell AIC: 2201.276470525476\n",
      "\n",
      "Box–Tidwell model summary:\n",
      "                 Generalized Linear Model Regression Results                  \n",
      "==============================================================================\n",
      "Dep. Variable:                 stroke   No. Observations:                 8570\n",
      "Model:                            GLM   Df Residuals:                     8555\n",
      "Model Family:                Binomial   Df Model:                           14\n",
      "Link Function:                  Logit   Scale:                          1.0000\n",
      "Method:                          IRLS   Log-Likelihood:                -1085.6\n",
      "Date:                Fri, 17 Oct 2025   Deviance:                       2171.3\n",
      "Time:                        16:24:55   Pearson chi2:                 7.22e+03\n",
      "No. Iterations:                    19   Pseudo R-squ. (CS):            0.08679\n",
      "Covariance Type:            nonrobust                                         \n",
      "==================================================================================================\n",
      "                                     coef    std err          z      P>|z|      [0.025      0.975]\n",
      "--------------------------------------------------------------------------------------------------\n",
      "const                            -14.3316      3.100     -4.623      0.000     -20.407      -8.256\n",
      "age                                0.4581      0.195      2.348      0.019       0.076       0.840\n",
      "hypertension                       0.2090      0.167      1.253      0.210      -0.118       0.536\n",
      "heart_disease                      0.0142      0.212      0.067      0.947      -0.401       0.429\n",
      "avg_glucose_level                 -0.0181      0.046     -0.396      0.692      -0.108       0.072\n",
      "bmi                                0.1444      0.296      0.489      0.625      -0.435       0.724\n",
      "gender_Male                        0.1395      0.121      1.149      0.250      -0.098       0.377\n",
      "gender_Other                     -10.2688   1.77e+04     -0.001      1.000   -3.48e+04    3.47e+04\n",
      "Residence_type_Urban              -0.0101      0.117     -0.086      0.932      -0.240       0.220\n",
      "smoking_status_formerly smoked    -0.0319      0.191     -0.167      0.867      -0.406       0.342\n",
      "smoking_status_never smoked        0.1653      0.171      0.969      0.332      -0.169       0.500\n",
      "smoking_status_smokes              0.3783      0.212      1.786      0.074      -0.037       0.793\n",
      "age_logint                        -0.0723      0.038     -1.897      0.058      -0.147       0.002\n",
      "avg_glucose_level_logint           0.0046      0.008      0.597      0.550      -0.011       0.020\n",
      "bmi_logint                        -0.0279      0.066     -0.423      0.672      -0.157       0.101\n",
      "==================================================================================================\n"
     ]
    }
   ],
   "source": [
    "import matplotlib.pyplot as plt\n",
    "import numpy as np\n",
    "\n",
    "continuous_vars = ['age', 'avg_glucose_level', 'bmi']\n",
    "\n",
    "# Running an original model without the log variables\n",
    "model_original = sm.GLM(y_train, X_train, family=sm.families.Binomial())\n",
    "results_original = model_original.fit()\n",
    "print(results_original.summary())\n",
    "\n",
    "# Creating log interaction versions of the original variables\n",
    "X_train_bt = X_train.copy()\n",
    "for var in continuous_vars:\n",
    "    X_train_bt[f'{var}_logint'] = X_train_bt[var] * np.log(X_train_bt[var] + 1)\n",
    "    \n",
    "model_bt = sm.GLM(y_train, X_train_bt, family=sm.families.Binomial())\n",
    "results_bt = model_bt.fit()\n",
    "\n",
    "# Comparing AIC and BIC between models\n",
    "print(\"Original AIC:\", results_original.aic)\n",
    "print(\"Box–Tidwell AIC:\", results_bt.aic)\n",
    "print(\"\\nBox–Tidwell model summary:\")\n",
    "print(results_bt.summary())"
   ]
  },
  {
   "cell_type": "markdown",
   "id": "59051ea3-3602-4142-b06b-b0dcf44a50a4",
   "metadata": {},
   "source": [
    "## Feature Engineering\n",
    "LogisticRegression for sklearn was used for the actual parameter tuning, since we can more easily add weights to account for imbalanced outcome. "
   ]
  },
  {
   "cell_type": "code",
   "execution_count": 6,
   "id": "931237e9-4efd-49f5-a28b-1bcc24d9afa6",
   "metadata": {
    "scrolled": true
   },
   "outputs": [],
   "source": [
    "from sklearn.linear_model import LogisticRegression\n",
    "from sklearn.datasets import make_classification\n",
    "from sklearn.model_selection import TunedThresholdClassifierCV\n",
    "from sklearn.metrics import make_scorer, f1_score\n",
    "from sklearn.metrics import get_scorer_names\n",
    "from sklearn.preprocessing import StandardScaler\n",
    "\n",
    "# Centering metric variables\n",
    "for col in [\"age\", \"bmi\", \"avg_glucose_level\"]:\n",
    "    mean_c = X_train[col].mean()\n",
    "    X_train[f\"{col}_c\"] = X_train[col] - mean_c\n",
    "    X_test[f\"{col}_c\"] = X_test[col] - mean_c"
   ]
  },
  {
   "cell_type": "code",
   "execution_count": 7,
   "id": "39ba3fca-a922-4a84-9116-632520970332",
   "metadata": {},
   "outputs": [],
   "source": [
    "# Dropping the constant because LogisticRegression code does not need it\n",
    "X_train_for_sklearn = X_train.drop(columns=['const', 'age', 'bmi', 'avg_glucose_level'])\n",
    "X_test_for_sklearn = X_test.drop(columns=['const', 'age', 'bmi', 'avg_glucose_level'])\n",
    "\n",
    "# Adding in interaction terms to our model\n",
    "X_train_for_sklearn[\"age_bmi_int\"] = X_train_for_sklearn[\"age_c\"] * X_train_for_sklearn[\"bmi_c\"]\n",
    "X_test_for_sklearn[\"age_bmi_int\"] = X_test_for_sklearn[\"age_c\"] * X_test_for_sklearn[\"bmi_c\"]\n",
    "\n",
    "for col in X_train_for_sklearn.columns:\n",
    "    if 'smoking_status' in col:  \n",
    "        X_train_for_sklearn[f'age_{col}_int'] = X_train_for_sklearn['age_c'] * X_train_for_sklearn[col]\n",
    "        X_train_for_sklearn[f'bmi_{col}_int'] = X_train_for_sklearn['bmi_c'] * X_train_for_sklearn[col]\n",
    "        X_test_for_sklearn[f'age_{col}_int'] = X_test_for_sklearn['age_c'] * X_test_for_sklearn[col]\n",
    "        X_test_for_sklearn[f'bmi_{col}_int'] = X_test_for_sklearn['bmi_c'] * X_test_for_sklearn[col]"
   ]
  },
  {
   "cell_type": "code",
   "execution_count": 8,
   "id": "2a886642-51a6-4cb0-b3ce-8d53aa005e52",
   "metadata": {},
   "outputs": [
    {
     "name": "stdout",
     "output_type": "stream",
     "text": [
      "hypertension                              0\n",
      "heart_disease                             0\n",
      "gender_Male                               0\n",
      "gender_Other                              0\n",
      "Residence_type_Urban                      0\n",
      "smoking_status_formerly smoked            0\n",
      "smoking_status_never smoked               0\n",
      "smoking_status_smokes                     0\n",
      "age_c                                     0\n",
      "bmi_c                                     0\n",
      "avg_glucose_level_c                       0\n",
      "age_bmi_int                               0\n",
      "age_smoking_status_formerly smoked_int    0\n",
      "bmi_smoking_status_formerly smoked_int    0\n",
      "age_smoking_status_never smoked_int       0\n",
      "bmi_smoking_status_never smoked_int       0\n",
      "age_smoking_status_smokes_int             0\n",
      "bmi_smoking_status_smokes_int             0\n",
      "dtype: int64\n",
      "hypertension                              0\n",
      "heart_disease                             0\n",
      "gender_Male                               0\n",
      "gender_Other                              0\n",
      "Residence_type_Urban                      0\n",
      "smoking_status_formerly smoked            0\n",
      "smoking_status_never smoked               0\n",
      "smoking_status_smokes                     0\n",
      "age_c                                     0\n",
      "bmi_c                                     0\n",
      "avg_glucose_level_c                       0\n",
      "age_bmi_int                               0\n",
      "age_smoking_status_formerly smoked_int    0\n",
      "bmi_smoking_status_formerly smoked_int    0\n",
      "age_smoking_status_never smoked_int       0\n",
      "bmi_smoking_status_never smoked_int       0\n",
      "age_smoking_status_smokes_int             0\n",
      "bmi_smoking_status_smokes_int             0\n",
      "dtype: int64\n",
      "Index(['hypertension', 'heart_disease', 'gender_Male', 'gender_Other',\n",
      "       'Residence_type_Urban', 'smoking_status_formerly smoked',\n",
      "       'smoking_status_never smoked', 'smoking_status_smokes', 'age_c',\n",
      "       'bmi_c', 'avg_glucose_level_c', 'age_bmi_int',\n",
      "       'age_smoking_status_formerly smoked_int',\n",
      "       'bmi_smoking_status_formerly smoked_int',\n",
      "       'age_smoking_status_never smoked_int',\n",
      "       'bmi_smoking_status_never smoked_int', 'age_smoking_status_smokes_int',\n",
      "       'bmi_smoking_status_smokes_int'],\n",
      "      dtype='object')\n",
      "Index(['hypertension', 'heart_disease', 'gender_Male', 'gender_Other',\n",
      "       'Residence_type_Urban', 'smoking_status_formerly smoked',\n",
      "       'smoking_status_never smoked', 'smoking_status_smokes', 'age_c',\n",
      "       'bmi_c', 'avg_glucose_level_c', 'age_bmi_int',\n",
      "       'age_smoking_status_formerly smoked_int',\n",
      "       'bmi_smoking_status_formerly smoked_int',\n",
      "       'age_smoking_status_never smoked_int',\n",
      "       'bmi_smoking_status_never smoked_int', 'age_smoking_status_smokes_int',\n",
      "       'bmi_smoking_status_smokes_int'],\n",
      "      dtype='object')\n"
     ]
    }
   ],
   "source": [
    "# Testing different thresholds for our logistic regression\n",
    "cols_to_scale = [c for c in [\"age_c\", \"bmi_c\", \"age_bmi_int\", \"avg_glucose_level_c\"]\n",
    "                 if c in X_train_for_sklearn.columns]\n",
    "\n",
    "scaler = StandardScaler()\n",
    "X_train_for_sklearn[cols_to_scale] = scaler.fit_transform(X_train_for_sklearn[cols_to_scale])\n",
    "X_test_for_sklearn[cols_to_scale]  = scaler.transform(X_test_for_sklearn[cols_to_scale])\n",
    "\n",
    "scorer = make_scorer(f1_score, pos_label=1)\n",
    "base_model = LogisticRegression(max_iter=2000, class_weight=\"balanced\")\n",
    "model = TunedThresholdClassifierCV(base_model, scoring=scorer, cv=5)\n",
    "model.fit(X_train_for_sklearn, y_train)\n",
    "\n",
    "#Double-checking that no variables were written-over\n",
    "print(X_test_for_sklearn.isnull().sum())\n",
    "print(np.isinf(X_test_for_sklearn).sum())\n",
    "print(X_test_for_sklearn.columns)\n",
    "print(X_train_for_sklearn.columns)"
   ]
  },
  {
   "cell_type": "code",
   "execution_count": 39,
   "id": "ff0fbfb2-b350-4f40-984d-97c0b94cbc86",
   "metadata": {},
   "outputs": [
    {
     "name": "stdout",
     "output_type": "stream",
     "text": [
      "0.12121212121212122\n",
      "0.2851379862601008\n",
      "Training features: (8570, 18)\n",
      "Test features: (3673, 18)\n",
      "Training columns: ['hypertension', 'heart_disease', 'gender_Male', 'gender_Other', 'Residence_type_Urban', 'smoking_status_formerly smoked', 'smoking_status_never smoked', 'smoking_status_smokes', 'age_c', 'bmi_c', 'avg_glucose_level_c', 'age_bmi_int', 'age_smoking_status_formerly smoked_int', 'bmi_smoking_status_formerly smoked_int', 'age_smoking_status_never smoked_int', 'bmi_smoking_status_never smoked_int', 'age_smoking_status_smokes_int', 'bmi_smoking_status_smokes_int']\n",
      "Test columns: ['hypertension', 'heart_disease', 'gender_Male', 'gender_Other', 'Residence_type_Urban', 'smoking_status_formerly smoked', 'smoking_status_never smoked', 'smoking_status_smokes', 'age_c', 'bmi_c', 'avg_glucose_level_c', 'age_bmi_int', 'age_smoking_status_formerly smoked_int', 'bmi_smoking_status_formerly smoked_int', 'age_smoking_status_never smoked_int', 'bmi_smoking_status_never smoked_int', 'age_smoking_status_smokes_int', 'bmi_smoking_status_smokes_int']\n",
      "Any NaN/Inf? 0 0\n",
      "\n",
      "Processed training data saved successfully.\n",
      "\n",
      "Processed test data saved successfully.\n"
     ]
    }
   ],
   "source": [
    "print(model.best_threshold_)\n",
    "print(model.best_score_)\n",
    "print(\"Training features:\", X_train_for_sklearn.shape)\n",
    "print(\"Test features:\", X_test_for_sklearn.shape)\n",
    "print(\"Training columns:\", X_train_for_sklearn.columns.tolist())\n",
    "print(\"Test columns:\", X_test_for_sklearn.columns.tolist())\n",
    "print(\"Any NaN/Inf?\", X_train_for_sklearn.isnull().sum().sum(), np.isinf(X_train.values).sum())\n",
    "\n",
    "Processed_TrainingData = X_train_for_sklearn.copy()\n",
    "Processed_TrainingData['stroke'] = y_train\n",
    "Processed_TrainingData.to_csv(\n",
    "    '/Users/kaylenamann/Downloads/BC Grad/2025Fall_ADAN7430/assignments/HW2/ProcessedData/Processed_TrainingData.csv', \n",
    "    index=False\n",
    ")\n",
    "print(\"\\nProcessed training data saved successfully.\")\n",
    "\n",
    "\n",
    "Processed_TestData = X_test_for_sklearn.copy()\n",
    "Processed_TestData['stroke'] = y_test\n",
    "Processed_TestData.to_csv(\n",
    "    '/Users/kaylenamann/Downloads/BC Grad/2025Fall_ADAN7430/assignments/HW2/ProcessedData/Processed_TestData.csv', \n",
    "    index=False\n",
    ")\n",
    "print(\"\\nProcessed test data saved successfully.\")"
   ]
  },
  {
   "cell_type": "code",
   "execution_count": 10,
   "id": "2411a898-2a1b-48b3-86a5-52aef224a881",
   "metadata": {},
   "outputs": [
    {
     "data": {
      "image/png": "[encoded data removed]",
      "text/plain": [
       "<Figure size 640x480 with 1 Axes>"
      ]
     },
     "metadata": {},
     "output_type": "display_data"
    }
   ],
   "source": [
    "import numpy as np\n",
    "import matplotlib.pyplot as plt\n",
    "from sklearn.metrics import f1_score\n",
    "\n",
    "#Visually plotting our threshold values against F1-scores\n",
    "\n",
    "probs = model.estimator_.predict_proba(X_test_for_sklearn)[:, 1]\n",
    "thresholds = np.linspace(0.05, 0.95, 50)\n",
    "f1s = [f1_score(y_test, (probs >= t).astype(int)) for t in thresholds]\n",
    "\n",
    "plt.plot(thresholds, f1s)\n",
    "plt.axvline(model.best_threshold_, color='red', linestyle='--', label='Best threshold')\n",
    "plt.xlabel(\"Threshold\")\n",
    "plt.ylabel(\"F1 Score\")\n",
    "plt.title(\"F1 vs Threshold\")\n",
    "plt.legend()\n",
    "plt.show()"
   ]
  },
  {
   "cell_type": "markdown",
   "id": "6de7bf57-d68c-4e24-b852-c29bbe77e977",
   "metadata": {},
   "source": [
    "## Model Selection on the holdout test set\n",
    "\n",
    "Now we will generate predictions on our holdout validation set **(remember this is held out from the training set, not the actual competition test set)** using different models. "
   ]
  },
  {
   "cell_type": "markdown",
   "id": "76ce3fcc-25da-4b4b-8da4-4bdcd4caa7be",
   "metadata": {},
   "source": [
    "### Binary Logistic Regression"
   ]
  },
  {
   "cell_type": "code",
   "execution_count": 11,
   "id": "4f0a1477-139e-4395-8c4e-33d1a8832580",
   "metadata": {},
   "outputs": [],
   "source": [
    "from sklearn.metrics import (\n",
    "    accuracy_score, confusion_matrix, classification_report,\n",
    "    roc_auc_score, recall_score, precision_score,\n",
    "    precision_recall_curve, auc\n",
    ")\n",
    "\n",
    "y_pred_logistic = model.predict(X_test_for_sklearn)"
   ]
  },
  {
   "cell_type": "markdown",
   "id": "240f9ebb-c0c9-438f-8b07-0cedf4f2892e",
   "metadata": {},
   "source": [
    "### KNN"
   ]
  },
  {
   "cell_type": "code",
   "execution_count": 12,
   "id": "7a4c5fde-81ee-49cb-b625-d8707dd684e2",
   "metadata": {},
   "outputs": [
    {
     "name": "stdout",
     "output_type": "stream",
     "text": [
      "KNN k=5: F1 = 0.2412, Threshold = 0.008\n",
      "KNN k=7: F1 = 0.2239, Threshold = 0.007\n",
      "KNN k=9: F1 = 0.2765, Threshold = 0.114\n",
      "KNN k=11: F1 = 0.2667, Threshold = 0.180\n",
      "KNN k=15: F1 = 0.2523, Threshold = 0.139\n",
      "KNN k=17: F1 = 0.2737, Threshold = 0.125\n",
      "KNN k=21: F1 = 0.3100, Threshold = 0.150\n",
      "KNN k=23: F1 = 0.3052, Threshold = 0.132\n",
      "KNN k=25: F1 = 0.3067, Threshold = 0.121\n"
     ]
    }
   ],
   "source": [
    "from sklearn.neighbors import KNeighborsClassifier\n",
    "from sklearn.pipeline import Pipeline\n",
    "from sklearn.metrics import f1_score, make_scorer\n",
    "\n",
    "f1_results = {}\n",
    "\n",
    "#Testing different kneighbors\n",
    "for k in [5, 7, 9, 11, 15, 17, 21, 23, 25]:\n",
    "    base_model = Pipeline([\n",
    "        ('scaler', StandardScaler()),\n",
    "        ('knn', KNeighborsClassifier(n_neighbors=k))\n",
    "    ])\n",
    "    model = TunedThresholdClassifierCV(base_model, scoring=scorer, cv=5)\n",
    "    model.fit(X_train_for_sklearn, y_train)\n",
    "    y_pred = model.predict(X_test_for_sklearn)\n",
    "    f1 = f1_score(y_test, y_pred)\n",
    "    print(f\"KNN k={k}: F1 = {f1:.4f}, Threshold = {model.best_threshold_:.3f}\")"
   ]
  },
  {
   "cell_type": "markdown",
   "id": "3cf159c5-5553-4f13-bcb1-0bda91ff0396",
   "metadata": {},
   "source": [
    "### Binary Logistic Regularization (L2) model"
   ]
  },
  {
   "cell_type": "code",
   "execution_count": 13,
   "id": "cb4f6761-4d71-4f48-aebd-1d1a86173006",
   "metadata": {},
   "outputs": [],
   "source": [
    "from sklearn.metrics import confusion_matrix, classification_report, accuracy_score, roc_auc_score, precision_recall_curve, auc\n",
    "\n",
    "logistic_l2 = LogisticRegression(penalty='l2', C=0.1, solver='liblinear', \n",
    "                                  class_weight='balanced', random_state=39)\n",
    "logistic_l2.fit(X_train_for_sklearn, y_train)  \n",
    "\n",
    "y_pred_l2 = logistic_l2.predict(X_test_for_sklearn)"
   ]
  },
  {
   "cell_type": "markdown",
   "id": "2b538f17-36be-4f0f-ab16-a4202dad0121",
   "metadata": {},
   "source": [
    "## Model evaluation and comparison\n",
    "\n",
    "Finally, we compare evaluation metrics such as the confusion matrix and classifcation report along with Accuracy and ROC curve. We focus mainly of the F1-score and the precision recall curve since we have an imbalanced outcome. "
   ]
  },
  {
   "cell_type": "markdown",
   "id": "db36a6f7-3549-4949-8004-9c76b4b8110d",
   "metadata": {},
   "source": [
    "### Regular Logistic Regression Results"
   ]
  },
  {
   "cell_type": "code",
   "execution_count": 16,
   "id": "68f75540-a4d0-47cb-8e81-0ade4b228795",
   "metadata": {},
   "outputs": [
    {
     "name": "stdout",
     "output_type": "stream",
     "text": [
      "Confusion Matrix:\n",
      " [[3247  274]\n",
      " [  68   84]]\n",
      "Classification Report:\n",
      "               precision    recall  f1-score   support\n",
      "\n",
      "           0      0.979     0.922     0.950      3521\n",
      "           1      0.235     0.553     0.329       152\n",
      "\n",
      "    accuracy                          0.907      3673\n",
      "   macro avg      0.607     0.737     0.640      3673\n",
      "weighted avg      0.949     0.907     0.924      3673\n",
      "\n",
      "Accuracy: 0.906888102368636\n",
      "ROC AUC: 0.8823207372307509\n",
      "PR-AUC: 0.2524421702156852\n"
     ]
    }
   ],
   "source": [
    "print(\"Confusion Matrix:\\n\", confusion_matrix(y_test, y_pred_logistic))\n",
    "print(\"Classification Report:\\n\", classification_report(y_test, y_pred_logistic, digits=3))\n",
    "print(\"Accuracy:\", accuracy_score(y_test, y_pred_logistic))\n",
    "print(\"ROC AUC:\", roc_auc_score(y_test, probs))\n",
    "\n",
    "prec, rec, thr = precision_recall_curve(y_test, probs)\n",
    "pr_auc = auc(rec, prec)\n",
    "print(\"PR-AUC:\", pr_auc)"
   ]
  },
  {
   "cell_type": "markdown",
   "id": "9b89ab3c-68ed-4233-9a30-597520b840e3",
   "metadata": {},
   "source": [
    "### KNN Results"
   ]
  },
  {
   "cell_type": "code",
   "execution_count": 17,
   "id": "1e860dba-c7e2-43ee-8411-cd481481cb50",
   "metadata": {},
   "outputs": [
    {
     "name": "stdout",
     "output_type": "stream",
     "text": [
      "Confusion Matrix:\n",
      " [[3335  186]\n",
      " [  90   62]]\n",
      "Classification Report:\n",
      "               precision    recall  f1-score   support\n",
      "\n",
      "           0      0.974     0.947     0.960      3521\n",
      "           1      0.250     0.408     0.310       152\n",
      "\n",
      "    accuracy                          0.925      3673\n",
      "   macro avg      0.612     0.678     0.635      3673\n",
      "weighted avg      0.944     0.925     0.933      3673\n",
      "\n",
      "Accuracy: 0.9248570650694256\n",
      "ROC AUC: 0.8122001076249272\n",
      "PR-AUC: 0.2031342560989437\n"
     ]
    }
   ],
   "source": [
    "best_model = Pipeline([\n",
    "    ('scaler', StandardScaler()),\n",
    "    ('knn', KNeighborsClassifier(n_neighbors=21))\n",
    "])\n",
    "final_model = TunedThresholdClassifierCV(best_model, scoring=scorer, cv=5)\n",
    "final_model.fit(X_train_for_sklearn, y_train)\n",
    "\n",
    "y_pred_knn = final_model.predict(X_test_for_sklearn)\n",
    "probs_knn  = final_model.estimator_.predict_proba(X_test_for_sklearn)[:, 1]\n",
    "\n",
    "print(\"Confusion Matrix:\\n\", confusion_matrix(y_test, y_pred_knn))\n",
    "print(\"Classification Report:\\n\", classification_report(y_test, y_pred_knn, digits=3))\n",
    "print(\"Accuracy:\", accuracy_score(y_test, y_pred_knn))\n",
    "print(\"ROC AUC:\", roc_auc_score(y_test, probs_knn))\n",
    "\n",
    "prec, rec, thr = precision_recall_curve(y_test, probs_knn)\n",
    "pr_auc = auc(rec, prec)\n",
    "print(\"PR-AUC:\", pr_auc)"
   ]
  },
  {
   "cell_type": "markdown",
   "id": "5acebfc9-b10d-44b1-960e-11f31b51faec",
   "metadata": {},
   "source": [
    "### L2 Regularization Results"
   ]
  },
  {
   "cell_type": "code",
   "execution_count": 18,
   "id": "1f092daa-5db2-4d78-9309-cdfc71a4c9c0",
   "metadata": {},
   "outputs": [
    {
     "name": "stdout",
     "output_type": "stream",
     "text": [
      "Accuracy with L2 regularization: 0.78\n",
      "Confusion Matrix:\n",
      " [[2733  788]\n",
      " [  23  129]]\n",
      "Classification Report:\n",
      "               precision    recall  f1-score   support\n",
      "\n",
      "           0      0.992     0.776     0.871      3521\n",
      "           1      0.141     0.849     0.241       152\n",
      "\n",
      "    accuracy                          0.779      3673\n",
      "   macro avg      0.566     0.812     0.556      3673\n",
      "weighted avg      0.956     0.779     0.845      3673\n",
      "\n",
      "ROC AUC: 0.8817844810834243\n",
      "PR-AUC: 0.2490957985846403\n"
     ]
    }
   ],
   "source": [
    "probs = logistic_l2.predict_proba(X_test_for_sklearn)[:, 1]\n",
    "\n",
    "accuracy_l2 = accuracy_score(y_test, y_pred_l2)\n",
    "print(f\"Accuracy with L2 regularization: {accuracy_l2:.2f}\")\n",
    "print(\"Confusion Matrix:\\n\", confusion_matrix(y_test, y_pred_l2))\n",
    "print(\"Classification Report:\\n\", classification_report(y_test, y_pred_l2, digits=3))\n",
    "print(\"ROC AUC:\", roc_auc_score(y_test, probs))\n",
    "\n",
    "prec, rec, thr = precision_recall_curve(y_test, probs)\n",
    "pr_auc = auc(rec, prec)\n",
    "print(\"PR-AUC:\", pr_auc)"
   ]
  },
  {
   "cell_type": "markdown",
   "id": "acfda577-8c9c-494a-8cc5-9566fcbdf930",
   "metadata": {},
   "source": [
    "## Using our final model on the test set"
   ]
  },
  {
   "cell_type": "code",
   "execution_count": 28,
   "id": "cbe4c8db-49ac-444a-a30c-0fcad608d8bd",
   "metadata": {},
   "outputs": [
    {
     "name": "stdout",
     "output_type": "stream",
     "text": [
      "Test data shape: (3061, 11)\n",
      "   id  gender   age  hypertension  heart_disease ever_married work_type  \\\n",
      "0   1  Female  40.0             0              0          Yes   Private   \n",
      "1   2  Female  31.0             0              0          Yes   Private   \n",
      "2   3    Male  50.0             0              0          Yes   Private   \n",
      "3   4  Female  34.0             0              0          Yes   Private   \n",
      "4   5  Female  52.0             0              0          Yes  Govt_job   \n",
      "\n",
      "  Residence_type  avg_glucose_level   bmi   smoking_status  \n",
      "0          Urban              94.65  34.7     never smoked  \n",
      "1          Urban              97.24  29.0          Unknown  \n",
      "2          Rural              95.52  31.4           smokes  \n",
      "3          Urban              80.03  19.8  formerly smoked  \n",
      "4          Rural             206.59  39.4  formerly smoked  \n"
     ]
    }
   ],
   "source": [
    "test_df = pd.read_csv(\"/Users/kaylenamann/Downloads/BC Grad/2025Fall_ADAN7430/assignments/HW2/RawData/test.csv\")\n",
    "\n",
    "print(\"Test data shape:\", test_df.shape)\n",
    "print(test_df.head())"
   ]
  },
  {
   "cell_type": "code",
   "execution_count": 29,
   "id": "ef34296a-6dd9-42e9-b5e2-9949a8dc6772",
   "metadata": {},
   "outputs": [],
   "source": [
    "feature_cols = ['gender', 'age', 'hypertension', 'heart_disease', 'Residence_type', 'avg_glucose_level', 'bmi', 'smoking_status']\n",
    "X_test_kaggle = test_df[feature_cols].copy()\n",
    "\n",
    "X_test_kaggle = pd.get_dummies(X_test_kaggle, drop_first=True)\n",
    "X_test_kaggle = X_test_kaggle.astype(float)\n",
    "X_test_kaggle = X_test_kaggle.reindex(columns=X_train.columns, fill_value=0)"
   ]
  },
  {
   "cell_type": "code",
   "execution_count": 30,
   "id": "ed6a177d-b510-473a-abe1-fbb74c772e31",
   "metadata": {},
   "outputs": [],
   "source": [
    "#repeating the same process\n",
    "for col in [\"age\", \"bmi\", \"avg_glucose_level\"]:\n",
    "    mean_c = X_train[col].mean() \n",
    "    X_test_kaggle[f\"{col}_c\"] = X_test_kaggle[col] - mean_c\n",
    "\n",
    "X_test_kaggle[\"age_bmi_int\"] = X_test_kaggle[\"age_c\"] * X_test_kaggle[\"bmi_c\"]\n",
    "\n",
    "for col in X_test_kaggle.columns:\n",
    "    if 'smoking_status_' in col:\n",
    "        X_test_kaggle[f'age_{col}_int'] = X_test_kaggle['age_c'] * X_test_kaggle[col]\n",
    "        X_test_kaggle[f'bmi_{col}_int'] = X_test_kaggle['bmi_c'] * X_test_kaggle[col]\n",
    "\n",
    "X_test_kaggle = X_test_kaggle.drop(columns=['const','age', 'bmi', 'avg_glucose_level'])"
   ]
  },
  {
   "cell_type": "code",
   "execution_count": 31,
   "id": "8c683727-0551-41dc-a9a6-7ce9924206c6",
   "metadata": {},
   "outputs": [
    {
     "name": "stdout",
     "output_type": "stream",
     "text": [
      "Test features shape: (3061, 18)\n",
      "Test columns: ['hypertension', 'heart_disease', 'gender_Male', 'gender_Other', 'Residence_type_Urban', 'smoking_status_formerly smoked', 'smoking_status_never smoked', 'smoking_status_smokes', 'age_c', 'bmi_c', 'avg_glucose_level_c', 'age_bmi_int', 'age_smoking_status_formerly smoked_int', 'bmi_smoking_status_formerly smoked_int', 'age_smoking_status_never smoked_int', 'bmi_smoking_status_never smoked_int', 'age_smoking_status_smokes_int', 'bmi_smoking_status_smokes_int']\n"
     ]
    }
   ],
   "source": [
    "cols_to_scale = [c for c in [\"age_c\", \"bmi_c\", \"age_bmi_int\", \"avg_glucose_level_c\"]\n",
    "                 if c in X_test_kaggle.columns]\n",
    "\n",
    "X_test_kaggle[cols_to_scale] = scaler.transform(X_test_kaggle[cols_to_scale])\n",
    "\n",
    "#Checking that our test columns match our training columns\n",
    "print(\"Test features shape:\", X_test_kaggle.shape)\n",
    "print(\"Test columns:\", X_test_kaggle.columns.tolist())"
   ]
  },
  {
   "cell_type": "code",
   "execution_count": 32,
   "id": "35a2f6c0-d2aa-4cb7-afb6-b7a8d524d828",
   "metadata": {},
   "outputs": [
    {
     "name": "stdout",
     "output_type": "stream",
     "text": [
      "Predictions shape: (3061,)\n",
      "Number of predicted strokes: 274\n",
      "Number of predicted no strokes: 2787\n"
     ]
    }
   ],
   "source": [
    "y_pred_final = model.predict(X_test_kaggle)\n",
    "\n",
    "#making sure our shape is correct and the number of predictions\n",
    "print(\"Predictions shape:\", y_pred_final.shape)\n",
    "print(\"Number of predicted strokes:\", (y_pred_final == 1).sum())\n",
    "print(\"Number of predicted no strokes:\", (y_pred_final == 0).sum())"
   ]
  },
  {
   "cell_type": "code",
   "execution_count": 37,
   "id": "95be19ba-a600-4dcf-85e5-6adc12e0d787",
   "metadata": {},
   "outputs": [
    {
     "name": "stdout",
     "output_type": "stream",
     "text": [
      "\n",
      "Submission preview:\n",
      "   id  stroke\n",
      "0   1       0\n",
      "1   2       0\n",
      "2   3       0\n",
      "3   4       0\n",
      "4   5       1\n",
      "5   6       0\n",
      "6   7       0\n",
      "7   8       0\n",
      "8   9       0\n",
      "9  10       0\n",
      "\n",
      "Submission shape: (3061, 2)\n",
      "Submission columns: ['id', 'stroke']\n",
      "\n",
      "Submission saved to Output/submission.csv\n"
     ]
    }
   ],
   "source": [
    "#creating the final csv file for submission\n",
    "submission = pd.DataFrame({\n",
    "    'id': test_df['id'],\n",
    "    'stroke': y_pred_final\n",
    "})\n",
    "\n",
    "print(\"\\nSubmission preview:\")\n",
    "print(submission.head(10))\n",
    "print(f\"\\nSubmission shape: {submission.shape}\")\n",
    "print(f\"Submission columns: {submission.columns.tolist()}\")\n",
    "\n",
    "submission.to_csv('/Users/kaylenamann/Downloads/BC Grad/2025Fall_ADAN7430/assignments/HW2/Output/Submission.csv', index=False)\n",
    "print(\"\\nSubmission saved to Output/submission.csv\")"
   ]
  },
  {
   "cell_type": "markdown",
   "id": "018aa199-d931-4da9-b36c-6dd0138448e9",
   "metadata": {},
   "source": [
    "## Conclusion"
   ]
  },
  {
   "cell_type": "markdown",
   "id": "ba8e9da0-d451-4550-8af4-a59bb712fc83",
   "metadata": {},
   "source": [
    "| Model | F1   | PR-AUC |\n",
    "|------:|:----:|-------:|\n",
    "| LogReg| 0.33 | 0.25   |\n",
    "| KNN   | 0.31 | 0.20   |\n",
    "| L2Reg | 0.24 | 0.25   |"
   ]
  },
  {
   "cell_type": "markdown",
   "id": "cd10df5b-4ee1-4a2a-bedb-68caf21c2c61",
   "metadata": {},
   "source": [
    "### The features and outcome were first evaluated descriptively to check for imbalance, non-linearity, and potential interactions.\n",
    "\n",
    "- The outcome was heavily imbalanced with very few cases of stroke (1).\n",
    "- There were a few moderate correlations between variables, indicating potential for interactions (in line with research).\n",
    "    - BMI and Age\n",
    "    - Age and smoking status\n",
    "    - BMI and smoking status\n",
    "- No evidence of non-linearity with the logit for the continuous variables, so no polynomial terms were added.\n",
    "\n",
    "### Different models were tested with the goal of maximizing the F1-score to catch more cases of stroke\n",
    "\n",
    "- Logistic regression with class weights added and tuned threshold\n",
    "    - F1-Score: .33\n",
    "- KNN with class weights added and tuned threshold\n",
    "    - F1-Score: .32\n",
    "- L2 regularization with class weights\n",
    "    - F1-Score: .24\n",
    "\n",
    "### **Overall, the normal logistic regression performed the best on the holdout set with an F1-score of .33, when submitted to the Kaggle competition, our final score was .28**"
   ]
  },
  {
   "cell_type": "markdown",
   "id": "283504d4-a3d6-4002-aea7-dd3451ecd1f8",
   "metadata": {},
   "source": [
    "References: \n",
    "\n",
    "Gan, Y., Wu, J., Li, L., Zhang, S., Yang, T., Tan, S., Mkandawire, N., Zhong, Y., Jiang, J., Wang,Z., & Lu, Z. (2018). Association of smoking with risk of stroke in middle-aged and older Chinese: Evidence from the China National Stroke Prevention Project. *Medicine, 97*(47), e13260. https://doi.org/10.1097/MD.0000000000013260\n",
    "\n",
    "Zhou, L., Chen, G., Liu, C., Liu, L., Zhang, S., & Zhao, X. (2008). Body mass index, blood pressure, and mortality from stroke: a prospective cohort study. *Stroke, 39*(7), 2065–2071. https://doi.org/10.1161/STROKEAHA.107.495374"
   ]
  }
 ],
 "metadata": {
  "kernelspec": {
   "display_name": "Python 3 (ipykernel)",
   "language": "python",
   "name": "python3"
  },
  "language_info": {
   "codemirror_mode": {
    "name": "ipython",
    "version": 3
   },
   "file_extension": ".py",
   "mimetype": "text/x-python",
   "name": "python",
   "nbconvert_exporter": "python",
   "pygments_lexer": "ipython3",
   "version": "3.13.5"
  }
 },
 "nbformat": 4,
 "nbformat_minor": 5
}

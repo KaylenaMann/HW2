{
 "cells": [
  {
   "cell_type": "code",
   "execution_count": 41,
   "id": "9171e06e-74df-42fb-b043-e5126202ac86",
   "metadata": {},
   "outputs": [],
   "source": [
    "import pandas as pd \n",
    "import statsmodels.formula.api as smf\n",
    "import statsmodels.api as sm\n",
    "from scipy.stats import norm\n",
    "import numpy as np\n",
    "import matplotlib.pyplot as plt\n",
    "from sklearn.linear_model import LogisticRegression\n",
    "from sklearn.datasets import make_regression\n",
    "import matplotlib.pyplot as plt\n",
    "import sklearn\n",
    "from sklearn.model_selection import train_test_split\n",
    "from sklearn.neighbors import KNeighborsClassifier\n",
    "from sklearn.preprocessing import StandardScaler\n",
    "from sklearn.pipeline import Pipeline\n",
    "from sklearn.metrics import accuracy_score, classification_report, confusion_matrix\n",
    "import matplotlib.pyplot as plt\n",
    "\n",
    "#downloading data\n",
    "train_df = pd.read_csv(\"train.csv\")"
   ]
  },
  {
   "cell_type": "code",
   "execution_count": 42,
   "id": "f84cb0d0-fddf-49b4-9ec6-612409082bb9",
   "metadata": {},
   "outputs": [
    {
     "data": {
      "text/plain": [
       "<bound method NDFrame.head of           id  gender   age  hypertension  heart_disease ever_married  \\\n",
       "0          1    Male  50.0             0              0          Yes   \n",
       "1          2  Female  52.0             0              0          Yes   \n",
       "2          3  Female  26.0             0              0           No   \n",
       "3          4  Female  37.0             0              0          Yes   \n",
       "4          5    Male  59.0             0              0          Yes   \n",
       "...      ...     ...   ...           ...            ...          ...   \n",
       "12238  12239  Female  32.0             0              0          Yes   \n",
       "12239  12240  Female  31.0             0              0          Yes   \n",
       "12240  12241    Male  65.0             0              0          Yes   \n",
       "12241  12242  Female  75.0             0              0          Yes   \n",
       "12242  12243    Male  58.0             0              0          Yes   \n",
       "\n",
       "      work_type Residence_type  avg_glucose_level   bmi   smoking_status  \\\n",
       "0       Private          Rural              88.10  29.1  formerly smoked   \n",
       "1       Private          Rural              80.07  38.9           smokes   \n",
       "2      Govt_job          Urban              89.11  23.3           smokes   \n",
       "3       Private          Rural              81.36  36.1     never smoked   \n",
       "4       Private          Rural              82.59  29.6     never smoked   \n",
       "...         ...            ...                ...   ...              ...   \n",
       "12238   Private          Urban              85.00  25.8          Unknown   \n",
       "12239  Govt_job          Urban              92.00  30.1          Unknown   \n",
       "12240   Private          Rural              91.44  30.9          Unknown   \n",
       "12241   Private          Urban              73.02  30.1  formerly smoked   \n",
       "12242  Govt_job          Urban             111.68  39.8     never smoked   \n",
       "\n",
       "       stroke  \n",
       "0           0  \n",
       "1           0  \n",
       "2           0  \n",
       "3           0  \n",
       "4           1  \n",
       "...       ...  \n",
       "12238       0  \n",
       "12239       0  \n",
       "12240       0  \n",
       "12241       0  \n",
       "12242       0  \n",
       "\n",
       "[12243 rows x 12 columns]>"
      ]
     },
     "execution_count": 42,
     "metadata": {},
     "output_type": "execute_result"
    }
   ],
   "source": [
    "train_df.head"
   ]
  },
  {
   "cell_type": "code",
   "execution_count": 43,
   "id": "735d8e7a-b441-4277-a5c4-671876a241e1",
   "metadata": {},
   "outputs": [
    {
     "name": "stdout",
     "output_type": "stream",
     "text": [
      "const                             float64\n",
      "age                               float64\n",
      "hypertension                      float64\n",
      "heart_disease                     float64\n",
      "avg_glucose_level                 float64\n",
      "bmi                               float64\n",
      "gender_Male                       float64\n",
      "gender_Other                      float64\n",
      "Residence_type_Urban              float64\n",
      "smoking_status_formerly smoked    float64\n",
      "smoking_status_never smoked       float64\n",
      "smoking_status_smokes             float64\n",
      "dtype: object\n",
      "int64\n"
     ]
    }
   ],
   "source": [
    "feature_cols = ['gender', 'age', 'hypertension', 'heart_disease','Residence_type','avg_glucose_level','bmi', 'smoking_status']\n",
    "\n",
    "train, test = train_test_split(train_df, \n",
    "                                test_size = .30,\n",
    "                                random_state = 39)\n",
    "\n",
    "X_train = train_df[feature_cols] \n",
    "y_train = train_df['stroke'] \n",
    "X_test = train_df[feature_cols]  \n",
    "y_test = train_df['stroke']     \n",
    "\n",
    "X_train = pd.get_dummies(X_train, drop_first=True)\n",
    "X_test = pd.get_dummies(X_test, drop_first=True)\n",
    "\n",
    "X_test = X_test.reindex(columns=X_train.columns, fill_value=0)\n",
    "\n",
    "# Add intercept\n",
    "X_train = sm.add_constant(X_train, has_constant='add')\n",
    "X_test = sm.add_constant(X_test, has_constant='add')\n",
    "\n",
    "# Convert to float\n",
    "X_train = X_train.astype(float)\n",
    "X_test = X_test.astype(float)\n",
    "\n",
    "print(X_train.dtypes)\n",
    "print(y_train.dtypes)"
   ]
  },
  {
   "cell_type": "code",
   "execution_count": 47,
   "id": "48f9881e-bf47-4c8e-a0ba-3802c1a54a41",
   "metadata": {},
   "outputs": [
    {
     "name": "stdout",
     "output_type": "stream",
     "text": [
      "Original AIC: 3132.040479123892\n",
      "Box–Tidwell AIC: 3134.187694403693\n",
      "\n",
      "Box–Tidwell model summary:\n",
      "                 Generalized Linear Model Regression Results                  \n",
      "==============================================================================\n",
      "Dep. Variable:                 stroke   No. Observations:                12243\n",
      "Model:                            GLM   Df Residuals:                    12228\n",
      "Model Family:                Binomial   Df Model:                           14\n",
      "Link Function:                  Logit   Scale:                          1.0000\n",
      "Method:                          IRLS   Log-Likelihood:                -1552.1\n",
      "Date:                Wed, 15 Oct 2025   Deviance:                       3104.2\n",
      "Time:                        18:11:12   Pearson chi2:                 1.61e+04\n",
      "No. Iterations:                    19   Pseudo R-squ. (CS):            0.08675\n",
      "Covariance Type:            nonrobust                                         \n",
      "==================================================================================================\n",
      "                                     coef    std err          z      P>|z|      [0.025      0.975]\n",
      "--------------------------------------------------------------------------------------------------\n",
      "const                            -11.4462      2.333     -4.906      0.000     -16.019      -6.874\n",
      "age                                0.2756      0.141      1.955      0.051      -0.001       0.552\n",
      "hypertension                       0.4919      0.133      3.708      0.000       0.232       0.752\n",
      "heart_disease                     -0.0096      0.181     -0.053      0.958      -0.365       0.346\n",
      "avg_glucose_level                 -0.0419      0.038     -1.101      0.271      -0.116       0.033\n",
      "bmi                                0.1136      0.235      0.484      0.628      -0.346       0.573\n",
      "gender_Male                        0.0790      0.102      0.776      0.438      -0.121       0.278\n",
      "gender_Other                     -11.5081   1.77e+04     -0.001      0.999   -3.48e+04    3.47e+04\n",
      "Residence_type_Urban              -0.0338      0.098     -0.344      0.731      -0.226       0.158\n",
      "smoking_status_formerly smoked    -0.1650      0.156     -1.056      0.291      -0.471       0.141\n",
      "smoking_status_never smoked       -0.0056      0.140     -0.040      0.968      -0.280       0.268\n",
      "smoking_status_smokes              0.3499      0.173      2.024      0.043       0.011       0.689\n",
      "age_logint                        -0.0365      0.028     -1.321      0.187      -0.091       0.018\n",
      "avg_glucose_level_logint           0.0085      0.006      1.316      0.188      -0.004       0.021\n",
      "bmi_logint                        -0.0203      0.052     -0.388      0.698      -0.123       0.082\n",
      "==================================================================================================\n"
     ]
    }
   ],
   "source": [
    "import matplotlib.pyplot as plt\n",
    "import numpy as np\n",
    "import statsmodels.api as sm\n",
    "\n",
    "continuous_vars = ['age', 'avg_glucose_level', 'bmi']\n",
    "\n",
    "model_original = sm.GLM(y_train, X_train, family=sm.families.Binomial())\n",
    "results_original = model_original.fit()\n",
    "\n",
    "X_train_bt = X_train.copy()\n",
    "for var in continuous_vars:\n",
    "    X_train_bt[f'{var}_logint'] = X_train_bt[var] * np.log(X_train_bt[var] + 1)\n",
    "    \n",
    "model_bt = sm.GLM(y_train, X_train_bt, family=sm.families.Binomial())\n",
    "results_bt = model_bt.fit()\n",
    "\n",
    "# Compare models\n",
    "print(\"Original AIC:\", results_original.aic)\n",
    "print(\"Box–Tidwell AIC:\", results_bt.aic)\n",
    "print(\"\\nBox–Tidwell model summary:\")\n",
    "print(results_bt.summary())"
   ]
  },
  {
   "cell_type": "code",
   "execution_count": 54,
   "id": "39ba3fca-a922-4a84-9116-632520970332",
   "metadata": {},
   "outputs": [
    {
     "name": "stdout",
     "output_type": "stream",
     "text": [
      "                 Generalized Linear Model Regression Results                  \n",
      "==============================================================================\n",
      "Dep. Variable:                 stroke   No. Observations:                12243\n",
      "Model:                            GLM   Df Residuals:                    12231\n",
      "Model Family:                Binomial   Df Model:                           11\n",
      "Link Function:                  Logit   Scale:                          1.0000\n",
      "Method:                          IRLS   Log-Likelihood:                -1554.0\n",
      "Date:                Wed, 15 Oct 2025   Deviance:                       3108.0\n",
      "Time:                        18:12:19   Pearson chi2:                 1.10e+04\n",
      "No. Iterations:                    19   Pseudo R-squ. (CS):            0.08646\n",
      "Covariance Type:            nonrobust                                         \n",
      "==================================================================================================\n",
      "                                     coef    std err          z      P>|z|      [0.025      0.975]\n",
      "--------------------------------------------------------------------------------------------------\n",
      "const                             -9.9079      0.422    -23.495      0.000     -10.734      -9.081\n",
      "age                                0.0906      0.004     22.627      0.000       0.083       0.098\n",
      "hypertension                       0.4835      0.133      3.634      0.000       0.223       0.744\n",
      "heart_disease                     -0.0266      0.181     -0.147      0.883      -0.382       0.328\n",
      "avg_glucose_level                  0.0082      0.001      6.921      0.000       0.006       0.011\n",
      "bmi                                0.0250      0.009      2.874      0.004       0.008       0.042\n",
      "gender_Male                        0.0897      0.101      0.885      0.376      -0.109       0.288\n",
      "gender_Other                     -12.7118   1.77e+04     -0.001      0.999   -3.48e+04    3.47e+04\n",
      "Residence_type_Urban              -0.0349      0.098     -0.356      0.722      -0.227       0.157\n",
      "smoking_status_formerly smoked    -0.1469      0.156     -0.940      0.347      -0.453       0.159\n",
      "smoking_status_never smoked        0.0014      0.140      0.010      0.992      -0.273       0.276\n",
      "smoking_status_smokes              0.3692      0.172      2.141      0.032       0.031       0.707\n",
      "==================================================================================================\n"
     ]
    }
   ],
   "source": [
    "glm_train = sm.GLM(y_train,\n",
    "             X_train,\n",
    "             family=sm.families.Binomial())\n",
    "results = glm_train.fit()\n",
    "print(results.summary())\n",
    "probs = results.predict(exog=X_test)\n",
    "glm_pred = (probs >= 0.3).astype(int)"
   ]
  },
  {
   "cell_type": "code",
   "execution_count": 55,
   "id": "cc1b2e0c-ff6d-4bb1-bd6a-a179ccf6d2dd",
   "metadata": {},
   "outputs": [
    {
     "name": "stdout",
     "output_type": "stream",
     "text": [
      "Accuracy: 0.9549946908437474\n",
      "Confusion Matrix:\n",
      " [[11618   119]\n",
      " [  432    74]]\n",
      "Classification Report:\n",
      "               precision    recall  f1-score   support\n",
      "\n",
      "           0       0.96      0.99      0.98     11737\n",
      "           1       0.38      0.15      0.21       506\n",
      "\n",
      "    accuracy                           0.95     12243\n",
      "   macro avg       0.67      0.57      0.59     12243\n",
      "weighted avg       0.94      0.95      0.95     12243\n",
      "\n"
     ]
    }
   ],
   "source": [
    "print(\"Accuracy:\", accuracy_score(y_test, glm_pred))\n",
    "print(\"Confusion Matrix:\\n\", confusion_matrix(y_test, glm_pred))\n",
    "print(\"Classification Report:\\n\", classification_report(y_test, glm_pred))"
   ]
  },
  {
   "cell_type": "code",
   "execution_count": 62,
   "id": "33d140c6-7769-4f17-95c0-3f6eb3a09263",
   "metadata": {},
   "outputs": [
    {
     "name": "stdout",
     "output_type": "stream",
     "text": [
      "['const', 'age', 'hypertension', 'heart_disease', 'avg_glucose_level', 'bmi', 'gender_Male', 'gender_Other', 'Residence_type_Urban', 'smoking_status_formerly smoked', 'smoking_status_never smoked', 'smoking_status_smokes']\n",
      "Before: Counter({0: 11737, 1: 506})\n",
      "After: Counter({0: 11737, 1: 11737})\n",
      "                 Generalized Linear Model Regression Results                  \n",
      "==============================================================================\n",
      "Dep. Variable:                 stroke   No. Observations:                23474\n",
      "Model:                            GLM   Df Residuals:                    23462\n",
      "Model Family:                Binomial   Df Model:                           11\n",
      "Link Function:                  Logit   Scale:                          1.0000\n",
      "Method:                          IRLS   Log-Likelihood:                -9410.5\n",
      "Date:                Wed, 15 Oct 2025   Deviance:                       18821.\n",
      "Time:                        18:27:24   Pearson chi2:                 2.23e+04\n",
      "No. Iterations:                    19   Pseudo R-squ. (CS):             0.4426\n",
      "Covariance Type:            nonrobust                                         \n",
      "==================================================================================================\n",
      "                                     coef    std err          z      P>|z|      [0.025      0.975]\n",
      "--------------------------------------------------------------------------------------------------\n",
      "const                             -7.0338      0.150    -46.833      0.000      -7.328      -6.739\n",
      "age                                0.1037      0.001     71.432      0.000       0.101       0.107\n",
      "hypertension                       0.8329      0.069     11.994      0.000       0.697       0.969\n",
      "heart_disease                     -2.6602      0.140    -19.004      0.000      -2.935      -2.386\n",
      "avg_glucose_level                  0.0070      0.001     11.946      0.000       0.006       0.008\n",
      "bmi                                0.0280      0.003      8.193      0.000       0.021       0.035\n",
      "gender_Male                       -0.1098      0.039     -2.840      0.005      -0.186      -0.034\n",
      "gender_Other                     -15.6469   1.77e+04     -0.001      0.999   -3.48e+04    3.47e+04\n",
      "Residence_type_Urban               0.2345      0.037      6.329      0.000       0.162       0.307\n",
      "smoking_status_formerly smoked    -1.1520      0.059    -19.390      0.000      -1.268      -1.036\n",
      "smoking_status_never smoked       -0.5430      0.048    -11.367      0.000      -0.637      -0.449\n",
      "smoking_status_smokes             -0.5333      0.061     -8.672      0.000      -0.654      -0.413\n",
      "==================================================================================================\n"
     ]
    }
   ],
   "source": [
    "from imblearn.over_sampling import SMOTENC\n",
    "from collections import Counter\n",
    "import statsmodels.api as sm\n",
    "\n",
    "print(X_train.columns.tolist())\n",
    "\n",
    "categorical_cols = ['gender_Male', 'gender_Other', 'heart_disease', 'Residence_type_Urban', 'smoking_status_formerly smoked', 'smoking_status_never smoked', 'smoking_status_smokes']\n",
    "\n",
    "categorical_indices = [X_train.columns.get_loc(col) for col in categorical_cols]\n",
    "\n",
    "counter = Counter(y_train)\n",
    "print('Before:', counter)\n",
    "\n",
    "smt = SMOTENC(categorical_features=categorical_indices, random_state=42)\n",
    "X_train_sm, y_train_sm = smt.fit_resample(X_train, y_train)\n",
    "\n",
    "counter = Counter(y_train_sm)\n",
    "print('After:', counter)\n",
    "\n",
    "model_smote = sm.GLM(y_train_sm, X_train_sm, family=sm.families.Binomial())\n",
    "results_smote = model_smote.fit()\n",
    "print(results_smote.summary())"
   ]
  },
  {
   "cell_type": "code",
   "execution_count": 75,
   "id": "3a094e1d-9c75-448b-b4cd-707914aa6544",
   "metadata": {},
   "outputs": [
    {
     "name": "stdout",
     "output_type": "stream",
     "text": [
      "Threshold 0.30 → Recall(1): 0.88, Precision(1): 0.10\n",
      "Threshold 0.40 → Recall(1): 0.81, Precision(1): 0.12\n",
      "Threshold 0.50 → Recall(1): 0.75, Precision(1): 0.14\n",
      "Threshold 0.60 → Recall(1): 0.66, Precision(1): 0.16\n",
      "\n",
      "Accuracy: 0.73642081189251\n",
      "Confusion Matrix:\n",
      " [[8606 3131]\n",
      " [  96  410]]\n",
      "Classification Report:\n",
      "               precision    recall  f1-score   support\n",
      "\n",
      "           0       0.99      0.73      0.84     11737\n",
      "           1       0.12      0.81      0.20       506\n",
      "\n",
      "    accuracy                           0.74     12243\n",
      "   macro avg       0.55      0.77      0.52     12243\n",
      "weighted avg       0.95      0.74      0.82     12243\n",
      "\n",
      "ROC AUC: 0.8579947674005486\n",
      "PR-AUC: 0.2216414074978158\n"
     ]
    }
   ],
   "source": [
    "from sklearn.metrics import (\n",
    "    accuracy_score, confusion_matrix, classification_report,\n",
    "    roc_auc_score, recall_score, precision_score,\n",
    "    precision_recall_curve, auc\n",
    ")\n",
    "import numpy as np\n",
    "\n",
    "X_test_aligned = X_test.reindex(columns=X_train_sm.columns, fill_value=0)\n",
    "\n",
    "probs = results_smote.predict(X_test_aligned) \n",
    "\n",
    "for t in [0.3, 0.4, 0.5, 0.6]:\n",
    "    y_pred_t = (probs >= t).astype(int)\n",
    "    rec = recall_score(y_test, y_pred_t)\n",
    "    pre = precision_score(y_test, y_pred_t)\n",
    "    print(f\"Threshold {t:.2f} → Recall(1): {rec:.2f}, Precision(1): {pre:.2f}\")\n",
    "\n",
    "y_pred = (probs >= 0.4).astype(int)\n",
    "\n",
    "print(\"\\nAccuracy:\", accuracy_score(y_test, y_pred))\n",
    "print(\"Confusion Matrix:\\n\", confusion_matrix(y_test, y_pred))\n",
    "print(\"Classification Report:\\n\", classification_report(y_test, y_pred))\n",
    "print(\"ROC AUC:\", roc_auc_score(y_test, probs))\n",
    "\n",
    "prec, rec, thr = precision_recall_curve(y_test, probs)\n",
    "pr_auc = auc(rec, prec)\n",
    "print(\"PR-AUC:\", pr_auc)"
   ]
  },
  {
   "cell_type": "code",
   "execution_count": 89,
   "id": "408764bb-e27b-4673-8349-b6baf78a835c",
   "metadata": {},
   "outputs": [
    {
     "ename": "ValueError",
     "evalue": "x and y must have same first dimension, but have shapes (20,) and (40,)",
     "output_type": "error",
     "traceback": [
      "\u001b[0;31m---------------------------------------------------------------------------\u001b[0m",
      "\u001b[0;31mValueError\u001b[0m                                Traceback (most recent call last)",
      "Cell \u001b[0;32mIn[89], line 17\u001b[0m\n\u001b[1;32m     14\u001b[0m     scores \u001b[38;5;241m=\u001b[39m cross_val_score(knn, X_train, y_train, cv\u001b[38;5;241m=\u001b[39m\u001b[38;5;241m5\u001b[39m, scoring\u001b[38;5;241m=\u001b[39m\u001b[38;5;124m'\u001b[39m\u001b[38;5;124maccuracy\u001b[39m\u001b[38;5;124m'\u001b[39m)\n\u001b[1;32m     15\u001b[0m     cv_scores\u001b[38;5;241m.\u001b[39mappend(scores\u001b[38;5;241m.\u001b[39mmean())\n\u001b[0;32m---> 17\u001b[0m plt\u001b[38;5;241m.\u001b[39mplot(k_values, cv_scores, marker\u001b[38;5;241m=\u001b[39m\u001b[38;5;124m'\u001b[39m\u001b[38;5;124mo\u001b[39m\u001b[38;5;124m'\u001b[39m)\n\u001b[1;32m     18\u001b[0m plt\u001b[38;5;241m.\u001b[39mxlabel(\u001b[38;5;124m'\u001b[39m\u001b[38;5;124mNumber of Neighbors (k)\u001b[39m\u001b[38;5;124m'\u001b[39m)\n\u001b[1;32m     19\u001b[0m plt\u001b[38;5;241m.\u001b[39mylabel(\u001b[38;5;124m'\u001b[39m\u001b[38;5;124mCV Accuracy\u001b[39m\u001b[38;5;124m'\u001b[39m)\n",
      "File \u001b[0;32m/opt/anaconda3/lib/python3.13/site-packages/matplotlib/pyplot.py:3829\u001b[0m, in \u001b[0;36mplot\u001b[0;34m(scalex, scaley, data, *args, **kwargs)\u001b[0m\n\u001b[1;32m   3821\u001b[0m \u001b[38;5;129m@_copy_docstring_and_deprecators\u001b[39m(Axes\u001b[38;5;241m.\u001b[39mplot)\n\u001b[1;32m   3822\u001b[0m \u001b[38;5;28;01mdef\u001b[39;00m\u001b[38;5;250m \u001b[39m\u001b[38;5;21mplot\u001b[39m(\n\u001b[1;32m   3823\u001b[0m     \u001b[38;5;241m*\u001b[39margs: \u001b[38;5;28mfloat\u001b[39m \u001b[38;5;241m|\u001b[39m ArrayLike \u001b[38;5;241m|\u001b[39m \u001b[38;5;28mstr\u001b[39m,\n\u001b[0;32m   (...)\u001b[0m\n\u001b[1;32m   3827\u001b[0m     \u001b[38;5;241m*\u001b[39m\u001b[38;5;241m*\u001b[39mkwargs,\n\u001b[1;32m   3828\u001b[0m ) \u001b[38;5;241m-\u001b[39m\u001b[38;5;241m>\u001b[39m \u001b[38;5;28mlist\u001b[39m[Line2D]:\n\u001b[0;32m-> 3829\u001b[0m     \u001b[38;5;28;01mreturn\u001b[39;00m gca()\u001b[38;5;241m.\u001b[39mplot(\n\u001b[1;32m   3830\u001b[0m         \u001b[38;5;241m*\u001b[39margs,\n\u001b[1;32m   3831\u001b[0m         scalex\u001b[38;5;241m=\u001b[39mscalex,\n\u001b[1;32m   3832\u001b[0m         scaley\u001b[38;5;241m=\u001b[39mscaley,\n\u001b[1;32m   3833\u001b[0m         \u001b[38;5;241m*\u001b[39m\u001b[38;5;241m*\u001b[39m({\u001b[38;5;124m\"\u001b[39m\u001b[38;5;124mdata\u001b[39m\u001b[38;5;124m\"\u001b[39m: data} \u001b[38;5;28;01mif\u001b[39;00m data \u001b[38;5;129;01mis\u001b[39;00m \u001b[38;5;129;01mnot\u001b[39;00m \u001b[38;5;28;01mNone\u001b[39;00m \u001b[38;5;28;01melse\u001b[39;00m {}),\n\u001b[1;32m   3834\u001b[0m         \u001b[38;5;241m*\u001b[39m\u001b[38;5;241m*\u001b[39mkwargs,\n\u001b[1;32m   3835\u001b[0m     )\n",
      "File \u001b[0;32m/opt/anaconda3/lib/python3.13/site-packages/matplotlib/axes/_axes.py:1777\u001b[0m, in \u001b[0;36mAxes.plot\u001b[0;34m(self, scalex, scaley, data, *args, **kwargs)\u001b[0m\n\u001b[1;32m   1534\u001b[0m \u001b[38;5;250m\u001b[39m\u001b[38;5;124;03m\"\"\"\u001b[39;00m\n\u001b[1;32m   1535\u001b[0m \u001b[38;5;124;03mPlot y versus x as lines and/or markers.\u001b[39;00m\n\u001b[1;32m   1536\u001b[0m \n\u001b[0;32m   (...)\u001b[0m\n\u001b[1;32m   1774\u001b[0m \u001b[38;5;124;03m(``'green'``) or hex strings (``'#008000'``).\u001b[39;00m\n\u001b[1;32m   1775\u001b[0m \u001b[38;5;124;03m\"\"\"\u001b[39;00m\n\u001b[1;32m   1776\u001b[0m kwargs \u001b[38;5;241m=\u001b[39m cbook\u001b[38;5;241m.\u001b[39mnormalize_kwargs(kwargs, mlines\u001b[38;5;241m.\u001b[39mLine2D)\n\u001b[0;32m-> 1777\u001b[0m lines \u001b[38;5;241m=\u001b[39m [\u001b[38;5;241m*\u001b[39m\u001b[38;5;28mself\u001b[39m\u001b[38;5;241m.\u001b[39m_get_lines(\u001b[38;5;28mself\u001b[39m, \u001b[38;5;241m*\u001b[39margs, data\u001b[38;5;241m=\u001b[39mdata, \u001b[38;5;241m*\u001b[39m\u001b[38;5;241m*\u001b[39mkwargs)]\n\u001b[1;32m   1778\u001b[0m \u001b[38;5;28;01mfor\u001b[39;00m line \u001b[38;5;129;01min\u001b[39;00m lines:\n\u001b[1;32m   1779\u001b[0m     \u001b[38;5;28mself\u001b[39m\u001b[38;5;241m.\u001b[39madd_line(line)\n",
      "File \u001b[0;32m/opt/anaconda3/lib/python3.13/site-packages/matplotlib/axes/_base.py:297\u001b[0m, in \u001b[0;36m_process_plot_var_args.__call__\u001b[0;34m(self, axes, data, return_kwargs, *args, **kwargs)\u001b[0m\n\u001b[1;32m    295\u001b[0m     this \u001b[38;5;241m+\u001b[39m\u001b[38;5;241m=\u001b[39m args[\u001b[38;5;241m0\u001b[39m],\n\u001b[1;32m    296\u001b[0m     args \u001b[38;5;241m=\u001b[39m args[\u001b[38;5;241m1\u001b[39m:]\n\u001b[0;32m--> 297\u001b[0m \u001b[38;5;28;01myield from\u001b[39;00m \u001b[38;5;28mself\u001b[39m\u001b[38;5;241m.\u001b[39m_plot_args(\n\u001b[1;32m    298\u001b[0m     axes, this, kwargs, ambiguous_fmt_datakey\u001b[38;5;241m=\u001b[39mambiguous_fmt_datakey,\n\u001b[1;32m    299\u001b[0m     return_kwargs\u001b[38;5;241m=\u001b[39mreturn_kwargs\n\u001b[1;32m    300\u001b[0m )\n",
      "File \u001b[0;32m/opt/anaconda3/lib/python3.13/site-packages/matplotlib/axes/_base.py:494\u001b[0m, in \u001b[0;36m_process_plot_var_args._plot_args\u001b[0;34m(self, axes, tup, kwargs, return_kwargs, ambiguous_fmt_datakey)\u001b[0m\n\u001b[1;32m    491\u001b[0m     axes\u001b[38;5;241m.\u001b[39myaxis\u001b[38;5;241m.\u001b[39mupdate_units(y)\n\u001b[1;32m    493\u001b[0m \u001b[38;5;28;01mif\u001b[39;00m x\u001b[38;5;241m.\u001b[39mshape[\u001b[38;5;241m0\u001b[39m] \u001b[38;5;241m!=\u001b[39m y\u001b[38;5;241m.\u001b[39mshape[\u001b[38;5;241m0\u001b[39m]:\n\u001b[0;32m--> 494\u001b[0m     \u001b[38;5;28;01mraise\u001b[39;00m \u001b[38;5;167;01mValueError\u001b[39;00m(\u001b[38;5;124mf\u001b[39m\u001b[38;5;124m\"\u001b[39m\u001b[38;5;124mx and y must have same first dimension, but \u001b[39m\u001b[38;5;124m\"\u001b[39m\n\u001b[1;32m    495\u001b[0m                      \u001b[38;5;124mf\u001b[39m\u001b[38;5;124m\"\u001b[39m\u001b[38;5;124mhave shapes \u001b[39m\u001b[38;5;132;01m{\u001b[39;00mx\u001b[38;5;241m.\u001b[39mshape\u001b[38;5;132;01m}\u001b[39;00m\u001b[38;5;124m and \u001b[39m\u001b[38;5;132;01m{\u001b[39;00my\u001b[38;5;241m.\u001b[39mshape\u001b[38;5;132;01m}\u001b[39;00m\u001b[38;5;124m\"\u001b[39m)\n\u001b[1;32m    496\u001b[0m \u001b[38;5;28;01mif\u001b[39;00m x\u001b[38;5;241m.\u001b[39mndim \u001b[38;5;241m>\u001b[39m \u001b[38;5;241m2\u001b[39m \u001b[38;5;129;01mor\u001b[39;00m y\u001b[38;5;241m.\u001b[39mndim \u001b[38;5;241m>\u001b[39m \u001b[38;5;241m2\u001b[39m:\n\u001b[1;32m    497\u001b[0m     \u001b[38;5;28;01mraise\u001b[39;00m \u001b[38;5;167;01mValueError\u001b[39;00m(\u001b[38;5;124mf\u001b[39m\u001b[38;5;124m\"\u001b[39m\u001b[38;5;124mx and y can be no greater than 2D, but have \u001b[39m\u001b[38;5;124m\"\u001b[39m\n\u001b[1;32m    498\u001b[0m                      \u001b[38;5;124mf\u001b[39m\u001b[38;5;124m\"\u001b[39m\u001b[38;5;124mshapes \u001b[39m\u001b[38;5;132;01m{\u001b[39;00mx\u001b[38;5;241m.\u001b[39mshape\u001b[38;5;132;01m}\u001b[39;00m\u001b[38;5;124m and \u001b[39m\u001b[38;5;132;01m{\u001b[39;00my\u001b[38;5;241m.\u001b[39mshape\u001b[38;5;132;01m}\u001b[39;00m\u001b[38;5;124m\"\u001b[39m)\n",
      "\u001b[0;31mValueError\u001b[0m: x and y must have same first dimension, but have shapes (20,) and (40,)"
     ]
    },
    {
     "data": {
      "image/png": "[encoded data removed]",
      "text/plain": [
       "<Figure size 640x480 with 1 Axes>"
      ]
     },
     "metadata": {},
     "output_type": "display_data"
    }
   ],
   "source": [
    "from sklearn.neighbors import KNeighborsClassifier\n",
    "from sklearn.preprocessing import PolynomialFeatures\n",
    "from sklearn.metrics import accuracy_score, classification_report, confusion_matrix\n",
    "from sklearn.pipeline import Pipeline\n",
    "import matplotlib.pyplot as plt\n",
    "import numpy as np\n",
    "from sklearn.model_selection import cross_val_score\n",
    "\n",
    "for k in k_values:\n",
    "    knn = Pipeline([\n",
    "        ('scaler', StandardScaler()),\n",
    "        ('knn', KNeighborsClassifier(n_neighbors=k))\n",
    "    ])\n",
    "    scores = cross_val_score(knn, X_train, y_train, cv=5, scoring='accuracy')\n",
    "    cv_scores.append(scores.mean())\n",
    "\n",
    "plt.plot(k_values, cv_scores, marker='o')\n",
    "plt.xlabel('Number of Neighbors (k)')\n",
    "plt.ylabel('CV Accuracy')\n",
    "plt.title('KNN Tuning Curve')\n",
    "plt.show()\n",
    "\n",
    "best_k = k_values[np.argmax(cv_scores)]\n",
    "print(f\"Best k = {best_k}, CV Accuracy = {max(cv_scores):.3f}\")"
   ]
  },
  {
   "cell_type": "code",
   "execution_count": 92,
   "id": "9afbf296-85c0-4a76-a283-dd11b146feac",
   "metadata": {},
   "outputs": [],
   "source": [
    "knn = Pipeline([\n",
    "    ('scaler', StandardScaler()),\n",
    "    ('knn', KNeighborsClassifier(n_neighbors=10))\n",
    "])\n",
    "knn.fit(X_train, y_train)\n",
    "\n",
    "knn_pred = knn.predict(X_test)\n",
    "\n",
    "k_values = range(1, 21)\n",
    "cv_scores = []"
   ]
  },
  {
   "cell_type": "code",
   "execution_count": 93,
   "id": "fce09444-f4fb-4530-811c-1db8d720404d",
   "metadata": {},
   "outputs": [
    {
     "name": "stdout",
     "output_type": "stream",
     "text": [
      "KNN Accuracy: 0.959160336518827\n",
      "KNN Confusion Matrix:\n",
      " [[11729     8]\n",
      " [  492    14]]\n",
      "\n",
      "KNN Classification Report:\n",
      "               precision    recall  f1-score   support\n",
      "\n",
      "           0       0.96      1.00      0.98     11737\n",
      "           1       0.64      0.03      0.05       506\n",
      "\n",
      "    accuracy                           0.96     12243\n",
      "   macro avg       0.80      0.51      0.52     12243\n",
      "weighted avg       0.95      0.96      0.94     12243\n",
      "\n"
     ]
    }
   ],
   "source": [
    "print(\"KNN Accuracy:\", accuracy_score(y_test, knn_pred))\n",
    "print(\"KNN Confusion Matrix:\\n\", confusion_matrix(y_test, knn_pred))\n",
    "print(\"\\nKNN Classification Report:\\n\", classification_report(y_test, knn_pred))"
   ]
  }
 ],
 "metadata": {
  "kernelspec": {
   "display_name": "Python 3 (ipykernel)",
   "language": "python",
   "name": "python3"
  },
  "language_info": {
   "codemirror_mode": {
    "name": "ipython",
    "version": 3
   },
   "file_extension": ".py",
   "mimetype": "text/x-python",
   "name": "python",
   "nbconvert_exporter": "python",
   "pygments_lexer": "ipython3",
   "version": "3.13.5"
  }
 },
 "nbformat": 4,
 "nbformat_minor": 5
}

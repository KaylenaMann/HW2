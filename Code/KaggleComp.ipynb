{
 "cells": [
  {
   "cell_type": "code",
   "execution_count": 86,
   "id": "f84cb0d0-fddf-49b4-9ec6-612409082bb9",
   "metadata": {},
   "outputs": [
    {
     "name": "stdout",
     "output_type": "stream",
     "text": [
      "   id  gender   age  hypertension  heart_disease ever_married work_type  \\\n",
      "0   1    Male  50.0             0              0          Yes   Private   \n",
      "1   2  Female  52.0             0              0          Yes   Private   \n",
      "2   3  Female  26.0             0              0           No  Govt_job   \n",
      "3   4  Female  37.0             0              0          Yes   Private   \n",
      "4   5    Male  59.0             0              0          Yes   Private   \n",
      "\n",
      "  Residence_type  avg_glucose_level   bmi   smoking_status  stroke  \n",
      "0          Rural              88.10  29.1  formerly smoked       0  \n",
      "1          Rural              80.07  38.9           smokes       0  \n",
      "2          Urban              89.11  23.3           smokes       0  \n",
      "3          Rural              81.36  36.1     never smoked       0  \n",
      "4          Rural              82.59  29.6     never smoked       1  \n",
      "<class 'pandas.core.frame.DataFrame'>\n",
      "RangeIndex: 12243 entries, 0 to 12242\n",
      "Data columns (total 12 columns):\n",
      " #   Column             Non-Null Count  Dtype  \n",
      "---  ------             --------------  -----  \n",
      " 0   id                 12243 non-null  int64  \n",
      " 1   gender             12243 non-null  object \n",
      " 2   age                12243 non-null  float64\n",
      " 3   hypertension       12243 non-null  int64  \n",
      " 4   heart_disease      12243 non-null  int64  \n",
      " 5   ever_married       12243 non-null  object \n",
      " 6   work_type          12243 non-null  object \n",
      " 7   Residence_type     12243 non-null  object \n",
      " 8   avg_glucose_level  12243 non-null  float64\n",
      " 9   bmi                12243 non-null  float64\n",
      " 10  smoking_status     12243 non-null  object \n",
      " 11  stroke             12243 non-null  int64  \n",
      "dtypes: float64(3), int64(4), object(5)\n",
      "memory usage: 1.1+ MB\n",
      "None\n"
     ]
    }
   ],
   "source": [
    "import pandas as pd\n",
    "train_df = pd.read_csv(\"/Users/kaylenamann/Downloads/BC Grad/2025Fall_ADAN7430/assignments/HW2/RawData/train.csv\")\n",
    "print(train_df.head())\n",
    "print(train_df.info())"
   ]
  },
  {
   "cell_type": "code",
   "execution_count": 100,
   "id": "f57c547f-e82a-45a1-b52d-e606a5af573a",
   "metadata": {},
   "outputs": [],
   "source": [
    "import statsmodels.api as sm\n",
    "feature_cols = ['gender', 'age', 'hypertension', 'heart_disease', 'Residence_type', 'avg_glucose_level', 'bmi', 'smoking_status']\n",
    "X = pd.get_dummies(train_df[feature_cols], drop_first=True)\n",
    "y = train_df['stroke']\n",
    "X = sm.add_constant(X, has_constant='add')\n",
    "X = X.astype(float)"
   ]
  },
  {
   "cell_type": "code",
   "execution_count": 108,
   "id": "735d8e7a-b441-4277-a5c4-671876a241e1",
   "metadata": {},
   "outputs": [],
   "source": [
    "from sklearn.model_selection import train_test_split\n",
    "import numpy as np\n",
    "from sklearn.preprocessing import StandardScaler\n",
    "\n",
    "X_train, X_test, y_train, y_test = train_test_split(X, y, test_size=0.3, random_state=39, stratify=y)\n",
    "X_test = X_test.reindex(columns=X_train.columns, fill_value=0)\n",
    "\n",
    "cont = [c for c in [\"age\", \"bmi\", \"avg_glucose_level\"] if c in X_train.columns]\n",
    "means = X_train[cont].mean()\n",
    "\n",
    "for c in cont:\n",
    "    mean_c = X_train[c].mean()\n",
    "    X_train[c] = X_train[c] - mean_c\n",
    "    X_test[c] = X_test[c] - mean_c\n",
    "\n",
    "X_train[\"age_bmi_int\"] = X_train[\"age\"] * X_train[\"bmi\"]\n",
    "X_test[\"age_bmi_int\"] = X_test[\"age\"] * X_test[\"bmi\"]\n",
    "\n",
    "X_train[\"gluc_hypter_int\"] = X_train[\"avg_glucose_level\"] * X_train[\"hypertension\"]\n",
    "X_test[\"gluc_hypter_int\"] = X_test[\"avg_glucose_level\"] * X_test[\"hypertension\"]\n",
    "\n",
    "for col in X_train.columns:\n",
    "    if 'smoking_status_' in col:  \n",
    "        X_train[f'age_{col}_int'] = X_train['age'] * X_train[col]\n",
    "        X_train[f'heart_{col}_int'] = X_train['heart_disease'] * X_train[col]\n",
    "        X_test[f'age_{col}_int'] = X_test['age'] * X_test[col]\n",
    "        X_test[f'heart_{col}_int'] = X_test['heart_disease'] * X_test[col]"
   ]
  },
  {
   "cell_type": "code",
   "execution_count": 109,
   "id": "48f9881e-bf47-4c8e-a0ba-3802c1a54a41",
   "metadata": {},
   "outputs": [
    {
     "name": "stderr",
     "output_type": "stream",
     "text": [
      "/opt/anaconda3/lib/python3.13/site-packages/pandas/core/arraylike.py:399: RuntimeWarning: invalid value encountered in log\n",
      "  result = getattr(ufunc, method)(*inputs, **kwargs)\n",
      "/opt/anaconda3/lib/python3.13/site-packages/pandas/core/arraylike.py:399: RuntimeWarning: invalid value encountered in log\n",
      "  result = getattr(ufunc, method)(*inputs, **kwargs)\n",
      "/opt/anaconda3/lib/python3.13/site-packages/pandas/core/arraylike.py:399: RuntimeWarning: invalid value encountered in log\n",
      "  result = getattr(ufunc, method)(*inputs, **kwargs)\n"
     ]
    },
    {
     "ename": "MissingDataError",
     "evalue": "exog contains inf or nans",
     "output_type": "error",
     "traceback": [
      "\u001b[0;31m---------------------------------------------------------------------------\u001b[0m",
      "\u001b[0;31mMissingDataError\u001b[0m                          Traceback (most recent call last)",
      "Cell \u001b[0;32mIn[109], line 14\u001b[0m\n\u001b[1;32m     11\u001b[0m \u001b[38;5;28;01mfor\u001b[39;00m var \u001b[38;5;129;01min\u001b[39;00m continuous_vars:\n\u001b[1;32m     12\u001b[0m     X_train_bt[\u001b[38;5;124mf\u001b[39m\u001b[38;5;124m'\u001b[39m\u001b[38;5;132;01m{\u001b[39;00mvar\u001b[38;5;132;01m}\u001b[39;00m\u001b[38;5;124m_logint\u001b[39m\u001b[38;5;124m'\u001b[39m] \u001b[38;5;241m=\u001b[39m X_train_bt[var] \u001b[38;5;241m*\u001b[39m np\u001b[38;5;241m.\u001b[39mlog(X_train_bt[var] \u001b[38;5;241m+\u001b[39m \u001b[38;5;241m1\u001b[39m)\n\u001b[0;32m---> 14\u001b[0m model_bt \u001b[38;5;241m=\u001b[39m sm\u001b[38;5;241m.\u001b[39mGLM(y_train, X_train_bt, family\u001b[38;5;241m=\u001b[39msm\u001b[38;5;241m.\u001b[39mfamilies\u001b[38;5;241m.\u001b[39mBinomial())\n\u001b[1;32m     15\u001b[0m results_bt \u001b[38;5;241m=\u001b[39m model_bt\u001b[38;5;241m.\u001b[39mfit()\n\u001b[1;32m     17\u001b[0m \u001b[38;5;28mprint\u001b[39m(\u001b[38;5;124m\"\u001b[39m\u001b[38;5;124mOriginal AIC:\u001b[39m\u001b[38;5;124m\"\u001b[39m, results_original\u001b[38;5;241m.\u001b[39maic)\n",
      "File \u001b[0;32m/opt/anaconda3/lib/python3.13/site-packages/statsmodels/genmod/generalized_linear_model.py:326\u001b[0m, in \u001b[0;36mGLM.__init__\u001b[0;34m(self, endog, exog, family, offset, exposure, freq_weights, var_weights, missing, **kwargs)\u001b[0m\n\u001b[1;32m    323\u001b[0m \u001b[38;5;28mself\u001b[39m\u001b[38;5;241m.\u001b[39mfreq_weights \u001b[38;5;241m=\u001b[39m freq_weights\n\u001b[1;32m    324\u001b[0m \u001b[38;5;28mself\u001b[39m\u001b[38;5;241m.\u001b[39mvar_weights \u001b[38;5;241m=\u001b[39m var_weights\n\u001b[0;32m--> 326\u001b[0m \u001b[38;5;28msuper\u001b[39m()\u001b[38;5;241m.\u001b[39m\u001b[38;5;21m__init__\u001b[39m(endog, exog, missing\u001b[38;5;241m=\u001b[39mmissing,\n\u001b[1;32m    327\u001b[0m                           offset\u001b[38;5;241m=\u001b[39moffset, exposure\u001b[38;5;241m=\u001b[39mexposure,\n\u001b[1;32m    328\u001b[0m                           freq_weights\u001b[38;5;241m=\u001b[39mfreq_weights,\n\u001b[1;32m    329\u001b[0m                           var_weights\u001b[38;5;241m=\u001b[39mvar_weights, \u001b[38;5;241m*\u001b[39m\u001b[38;5;241m*\u001b[39mkwargs)\n\u001b[1;32m    330\u001b[0m \u001b[38;5;28mself\u001b[39m\u001b[38;5;241m.\u001b[39m_check_inputs(family, \u001b[38;5;28mself\u001b[39m\u001b[38;5;241m.\u001b[39moffset, \u001b[38;5;28mself\u001b[39m\u001b[38;5;241m.\u001b[39mexposure, \u001b[38;5;28mself\u001b[39m\u001b[38;5;241m.\u001b[39mendog,\n\u001b[1;32m    331\u001b[0m                    \u001b[38;5;28mself\u001b[39m\u001b[38;5;241m.\u001b[39mfreq_weights, \u001b[38;5;28mself\u001b[39m\u001b[38;5;241m.\u001b[39mvar_weights)\n\u001b[1;32m    332\u001b[0m \u001b[38;5;28;01mif\u001b[39;00m offset \u001b[38;5;129;01mis\u001b[39;00m \u001b[38;5;28;01mNone\u001b[39;00m:\n",
      "File \u001b[0;32m/opt/anaconda3/lib/python3.13/site-packages/statsmodels/base/model.py:270\u001b[0m, in \u001b[0;36mLikelihoodModel.__init__\u001b[0;34m(self, endog, exog, **kwargs)\u001b[0m\n\u001b[1;32m    269\u001b[0m \u001b[38;5;28;01mdef\u001b[39;00m\u001b[38;5;250m \u001b[39m\u001b[38;5;21m__init__\u001b[39m(\u001b[38;5;28mself\u001b[39m, endog, exog\u001b[38;5;241m=\u001b[39m\u001b[38;5;28;01mNone\u001b[39;00m, \u001b[38;5;241m*\u001b[39m\u001b[38;5;241m*\u001b[39mkwargs):\n\u001b[0;32m--> 270\u001b[0m     \u001b[38;5;28msuper\u001b[39m()\u001b[38;5;241m.\u001b[39m\u001b[38;5;21m__init__\u001b[39m(endog, exog, \u001b[38;5;241m*\u001b[39m\u001b[38;5;241m*\u001b[39mkwargs)\n\u001b[1;32m    271\u001b[0m     \u001b[38;5;28mself\u001b[39m\u001b[38;5;241m.\u001b[39minitialize()\n",
      "File \u001b[0;32m/opt/anaconda3/lib/python3.13/site-packages/statsmodels/base/model.py:95\u001b[0m, in \u001b[0;36mModel.__init__\u001b[0;34m(self, endog, exog, **kwargs)\u001b[0m\n\u001b[1;32m     93\u001b[0m missing \u001b[38;5;241m=\u001b[39m kwargs\u001b[38;5;241m.\u001b[39mpop(\u001b[38;5;124m'\u001b[39m\u001b[38;5;124mmissing\u001b[39m\u001b[38;5;124m'\u001b[39m, \u001b[38;5;124m'\u001b[39m\u001b[38;5;124mnone\u001b[39m\u001b[38;5;124m'\u001b[39m)\n\u001b[1;32m     94\u001b[0m hasconst \u001b[38;5;241m=\u001b[39m kwargs\u001b[38;5;241m.\u001b[39mpop(\u001b[38;5;124m'\u001b[39m\u001b[38;5;124mhasconst\u001b[39m\u001b[38;5;124m'\u001b[39m, \u001b[38;5;28;01mNone\u001b[39;00m)\n\u001b[0;32m---> 95\u001b[0m \u001b[38;5;28mself\u001b[39m\u001b[38;5;241m.\u001b[39mdata \u001b[38;5;241m=\u001b[39m \u001b[38;5;28mself\u001b[39m\u001b[38;5;241m.\u001b[39m_handle_data(endog, exog, missing, hasconst,\n\u001b[1;32m     96\u001b[0m                               \u001b[38;5;241m*\u001b[39m\u001b[38;5;241m*\u001b[39mkwargs)\n\u001b[1;32m     97\u001b[0m \u001b[38;5;28mself\u001b[39m\u001b[38;5;241m.\u001b[39mk_constant \u001b[38;5;241m=\u001b[39m \u001b[38;5;28mself\u001b[39m\u001b[38;5;241m.\u001b[39mdata\u001b[38;5;241m.\u001b[39mk_constant\n\u001b[1;32m     98\u001b[0m \u001b[38;5;28mself\u001b[39m\u001b[38;5;241m.\u001b[39mexog \u001b[38;5;241m=\u001b[39m \u001b[38;5;28mself\u001b[39m\u001b[38;5;241m.\u001b[39mdata\u001b[38;5;241m.\u001b[39mexog\n",
      "File \u001b[0;32m/opt/anaconda3/lib/python3.13/site-packages/statsmodels/base/model.py:135\u001b[0m, in \u001b[0;36mModel._handle_data\u001b[0;34m(self, endog, exog, missing, hasconst, **kwargs)\u001b[0m\n\u001b[1;32m    134\u001b[0m \u001b[38;5;28;01mdef\u001b[39;00m\u001b[38;5;250m \u001b[39m\u001b[38;5;21m_handle_data\u001b[39m(\u001b[38;5;28mself\u001b[39m, endog, exog, missing, hasconst, \u001b[38;5;241m*\u001b[39m\u001b[38;5;241m*\u001b[39mkwargs):\n\u001b[0;32m--> 135\u001b[0m     data \u001b[38;5;241m=\u001b[39m handle_data(endog, exog, missing, hasconst, \u001b[38;5;241m*\u001b[39m\u001b[38;5;241m*\u001b[39mkwargs)\n\u001b[1;32m    136\u001b[0m     \u001b[38;5;66;03m# kwargs arrays could have changed, easier to just attach here\u001b[39;00m\n\u001b[1;32m    137\u001b[0m     \u001b[38;5;28;01mfor\u001b[39;00m key \u001b[38;5;129;01min\u001b[39;00m kwargs:\n",
      "File \u001b[0;32m/opt/anaconda3/lib/python3.13/site-packages/statsmodels/base/data.py:675\u001b[0m, in \u001b[0;36mhandle_data\u001b[0;34m(endog, exog, missing, hasconst, **kwargs)\u001b[0m\n\u001b[1;32m    672\u001b[0m     exog \u001b[38;5;241m=\u001b[39m np\u001b[38;5;241m.\u001b[39masarray(exog)\n\u001b[1;32m    674\u001b[0m klass \u001b[38;5;241m=\u001b[39m handle_data_class_factory(endog, exog)\n\u001b[0;32m--> 675\u001b[0m \u001b[38;5;28;01mreturn\u001b[39;00m klass(endog, exog\u001b[38;5;241m=\u001b[39mexog, missing\u001b[38;5;241m=\u001b[39mmissing, hasconst\u001b[38;5;241m=\u001b[39mhasconst,\n\u001b[1;32m    676\u001b[0m              \u001b[38;5;241m*\u001b[39m\u001b[38;5;241m*\u001b[39mkwargs)\n",
      "File \u001b[0;32m/opt/anaconda3/lib/python3.13/site-packages/statsmodels/base/data.py:88\u001b[0m, in \u001b[0;36mModelData.__init__\u001b[0;34m(self, endog, exog, missing, hasconst, **kwargs)\u001b[0m\n\u001b[1;32m     86\u001b[0m \u001b[38;5;28mself\u001b[39m\u001b[38;5;241m.\u001b[39mconst_idx \u001b[38;5;241m=\u001b[39m \u001b[38;5;28;01mNone\u001b[39;00m\n\u001b[1;32m     87\u001b[0m \u001b[38;5;28mself\u001b[39m\u001b[38;5;241m.\u001b[39mk_constant \u001b[38;5;241m=\u001b[39m \u001b[38;5;241m0\u001b[39m\n\u001b[0;32m---> 88\u001b[0m \u001b[38;5;28mself\u001b[39m\u001b[38;5;241m.\u001b[39m_handle_constant(hasconst)\n\u001b[1;32m     89\u001b[0m \u001b[38;5;28mself\u001b[39m\u001b[38;5;241m.\u001b[39m_check_integrity()\n\u001b[1;32m     90\u001b[0m \u001b[38;5;28mself\u001b[39m\u001b[38;5;241m.\u001b[39m_cache \u001b[38;5;241m=\u001b[39m {}\n",
      "File \u001b[0;32m/opt/anaconda3/lib/python3.13/site-packages/statsmodels/base/data.py:134\u001b[0m, in \u001b[0;36mModelData._handle_constant\u001b[0;34m(self, hasconst)\u001b[0m\n\u001b[1;32m    132\u001b[0m exog_max \u001b[38;5;241m=\u001b[39m np\u001b[38;5;241m.\u001b[39mmax(\u001b[38;5;28mself\u001b[39m\u001b[38;5;241m.\u001b[39mexog, axis\u001b[38;5;241m=\u001b[39m\u001b[38;5;241m0\u001b[39m)\n\u001b[1;32m    133\u001b[0m \u001b[38;5;28;01mif\u001b[39;00m \u001b[38;5;129;01mnot\u001b[39;00m np\u001b[38;5;241m.\u001b[39misfinite(exog_max)\u001b[38;5;241m.\u001b[39mall():\n\u001b[0;32m--> 134\u001b[0m     \u001b[38;5;28;01mraise\u001b[39;00m MissingDataError(\u001b[38;5;124m'\u001b[39m\u001b[38;5;124mexog contains inf or nans\u001b[39m\u001b[38;5;124m'\u001b[39m)\n\u001b[1;32m    135\u001b[0m exog_min \u001b[38;5;241m=\u001b[39m np\u001b[38;5;241m.\u001b[39mmin(\u001b[38;5;28mself\u001b[39m\u001b[38;5;241m.\u001b[39mexog, axis\u001b[38;5;241m=\u001b[39m\u001b[38;5;241m0\u001b[39m)\n\u001b[1;32m    136\u001b[0m const_idx \u001b[38;5;241m=\u001b[39m np\u001b[38;5;241m.\u001b[39mwhere(exog_max \u001b[38;5;241m==\u001b[39m exog_min)[\u001b[38;5;241m0\u001b[39m]\u001b[38;5;241m.\u001b[39msqueeze()\n",
      "\u001b[0;31mMissingDataError\u001b[0m: exog contains inf or nans"
     ]
    }
   ],
   "source": [
    "import matplotlib.pyplot as plt\n",
    "import numpy as np\n",
    "import statsmodels.api as sm\n",
    "\n",
    "continuous_vars = ['age', 'avg_glucose_level', 'bmi']\n",
    "\n",
    "model_original = sm.GLM(y_train, X_train, family=sm.families.Binomial())\n",
    "results_original = model_original.fit()\n",
    "\n",
    "X_train_bt = X_train.copy()\n",
    "for var in continuous_vars:\n",
    "    X_train_bt[f'{var}_logint'] = X_train_bt[var] * np.log(X_train_bt[var] + 1)\n",
    "    \n",
    "model_bt = sm.GLM(y_train, X_train_bt, family=sm.families.Binomial())\n",
    "results_bt = model_bt.fit()\n",
    "\n",
    "print(\"Original AIC:\", results_original.aic)\n",
    "print(\"Box–Tidwell AIC:\", results_bt.aic)\n",
    "print(\"\\nBox–Tidwell model summary:\")\n",
    "print(results_bt.summary())"
   ]
  },
  {
   "cell_type": "code",
   "execution_count": 106,
   "id": "39ba3fca-a922-4a84-9116-632520970332",
   "metadata": {},
   "outputs": [
    {
     "data": {
      "text/plain": [
       "0.3174846625766871"
      ]
     },
     "execution_count": 106,
     "metadata": {},
     "output_type": "execute_result"
    }
   ],
   "source": [
    "from sklearn.linear_model import LogisticRegression\n",
    "from sklearn.datasets import make_classification\n",
    "from sklearn.model_selection import TunedThresholdClassifierCV\n",
    "from sklearn.metrics import make_scorer, f1_score\n",
    "from sklearn.metrics import get_scorer_names\n",
    "\n",
    "from sklearn.preprocessing import StandardScaler\n",
    "\n",
    "cols_to_scale = [c for c in [\"age_c\", \"bmi_c\", \"avg_glucose_level_c\", \"age_bmi_int\", \"gluc_hypter_int\"]\n",
    "                 if c in X_train.columns]\n",
    "\n",
    "scaler = StandardScaler()\n",
    "X_train[cols_to_scale] = scaler.fit_transform(X_train[cols_to_scale])\n",
    "X_test[cols_to_scale]  = scaler.transform(X_test[cols_to_scale])\n",
    "\n",
    "scorer = make_scorer(f1_score, pos_label=1)\n",
    "base_model = LogisticRegression(max_iter=2000, class_weight=\"balanced\")\n",
    "model = TunedThresholdClassifierCV(base_model, scoring=scorer, cv=5)\n",
    "scorer(model.fit(X_train, y_train), X_train, y_train)"
   ]
  },
  {
   "cell_type": "code",
   "execution_count": 103,
   "id": "ff0fbfb2-b350-4f40-984d-97c0b94cbc86",
   "metadata": {},
   "outputs": [
    {
     "name": "stdout",
     "output_type": "stream",
     "text": [
      "0.7611321933478461\n",
      "0.3159005288165216\n"
     ]
    }
   ],
   "source": [
    "print(model.best_threshold_)\n",
    "print(model.best_score_)"
   ]
  },
  {
   "cell_type": "code",
   "execution_count": 104,
   "id": "2411a898-2a1b-48b3-86a5-52aef224a881",
   "metadata": {},
   "outputs": [
    {
     "data": {
      "image/png": "[encoded data removed]",
      "text/plain": [
       "<Figure size 640x480 with 1 Axes>"
      ]
     },
     "metadata": {},
     "output_type": "display_data"
    }
   ],
   "source": [
    "import numpy as np\n",
    "import matplotlib.pyplot as plt\n",
    "from sklearn.metrics import f1_score\n",
    "\n",
    "probs = model.estimator_.predict_proba(X_test)[:, 1]\n",
    "thresholds = np.linspace(0.05, 0.95, 50)\n",
    "f1s = [f1_score(y_test, (probs >= t).astype(int)) for t in thresholds]\n",
    "\n",
    "plt.plot(thresholds, f1s)\n",
    "plt.axvline(model.best_threshold_, color='red', linestyle='--', label='Best threshold')\n",
    "plt.xlabel(\"Threshold\")\n",
    "plt.ylabel(\"F1 Score\")\n",
    "plt.title(\"F1 vs Threshold\")\n",
    "plt.legend()\n",
    "plt.show()"
   ]
  },
  {
   "cell_type": "code",
   "execution_count": 105,
   "id": "4f0a1477-139e-4395-8c4e-33d1a8832580",
   "metadata": {},
   "outputs": [
    {
     "name": "stdout",
     "output_type": "stream",
     "text": [
      "Confusion Matrix:\n",
      " [[3198  323]\n",
      " [  62   90]]\n",
      "Classification Report:\n",
      "               precision    recall  f1-score   support\n",
      "\n",
      "           0      0.981     0.908     0.943      3521\n",
      "           1      0.218     0.592     0.319       152\n",
      "\n",
      "    accuracy                          0.895      3673\n",
      "   macro avg      0.599     0.750     0.631      3673\n",
      "weighted avg      0.949     0.895     0.917      3673\n",
      "\n",
      "Accuracy: 0.895181050912061\n",
      "ROC AUC: 0.8806540456509065\n",
      "PR-AUC: 0.24705379475083256\n"
     ]
    }
   ],
   "source": [
    "from sklearn.metrics import (\n",
    "    accuracy_score, confusion_matrix, classification_report,\n",
    "    roc_auc_score, recall_score, precision_score,\n",
    "    precision_recall_curve, auc\n",
    ")\n",
    "\n",
    "y_pred_final = model.predict(X_test)\n",
    "\n",
    "print(\"Confusion Matrix:\\n\", confusion_matrix(y_test, y_pred_final))\n",
    "print(\"Classification Report:\\n\", classification_report(y_test, y_pred_final, digits=3))\n",
    "print(\"Accuracy:\", accuracy_score(y_test, y_pred_final))\n",
    "print(\"ROC AUC:\", roc_auc_score(y_test, probs))\n",
    "\n",
    "prec, rec, thr = precision_recall_curve(y_test, probs)\n",
    "pr_auc = auc(rec, prec)\n",
    "print(\"PR-AUC:\", pr_auc)"
   ]
  },
  {
   "cell_type": "code",
   "execution_count": 43,
   "id": "3a094e1d-9c75-448b-b4cd-707914aa6544",
   "metadata": {},
   "outputs": [
    {
     "name": "stdout",
     "output_type": "stream",
     "text": [
      "                 Generalized Linear Model Regression Results                  \n",
      "==============================================================================\n",
      "Dep. Variable:                 stroke   No. Observations:                16432\n",
      "Model:                            GLM   Df Residuals:                    16415\n",
      "Model Family:                Binomial   Df Model:                           16\n",
      "Link Function:                  Logit   Scale:                          1.0000\n",
      "Method:                          IRLS   Log-Likelihood:                -5932.0\n",
      "Date:                Wed, 15 Oct 2025   Deviance:                       11864.\n",
      "Time:                        20:19:50   Pearson chi2:                 1.44e+04\n",
      "No. Iterations:                    26   Pseudo R-squ. (CS):             0.4854\n",
      "Covariance Type:            nonrobust                                         \n",
      "==================================================================================================\n",
      "                                     coef    std err          z      P>|z|      [0.025      0.975]\n",
      "--------------------------------------------------------------------------------------------------\n",
      "const                             -8.0996      0.219    -36.925      0.000      -8.530      -7.670\n",
      "age                                0.1101      0.002     55.398      0.000       0.106       0.114\n",
      "hypertension                      -2.0173      0.120    -16.801      0.000      -2.253      -1.782\n",
      "heart_disease                     -2.2188      0.161    -13.755      0.000      -2.535      -1.903\n",
      "avg_glucose_level                  0.0100      0.001     13.667      0.000       0.009       0.011\n",
      "bmi                                0.0565      0.004     12.997      0.000       0.048       0.065\n",
      "gender_Male                        0.0629      0.049      1.286      0.198      -0.033       0.159\n",
      "gender_Other                      -0.0500   5.87e+05  -8.52e-08      1.000   -1.15e+06    1.15e+06\n",
      "ever_married_Yes                   0.5462      0.109      5.027      0.000       0.333       0.759\n",
      "work_type_Never_worked           -22.8281   1.26e+05     -0.000      1.000   -2.47e+05    2.47e+05\n",
      "work_type_Private                 -0.2910      0.075     -3.858      0.000      -0.439      -0.143\n",
      "work_type_Self-employed           -0.6497      0.092     -7.045      0.000      -0.831      -0.469\n",
      "work_type_children               -22.3873   1.67e+04     -0.001      0.999   -3.28e+04    3.28e+04\n",
      "Residence_type_Urban               0.2547      0.047      5.456      0.000       0.163       0.346\n",
      "smoking_status_formerly smoked    -2.2636      0.075    -30.036      0.000      -2.411      -2.116\n",
      "smoking_status_never smoked       -1.2409      0.056    -22.342      0.000      -1.350      -1.132\n",
      "smoking_status_smokes             -1.9607      0.087    -22.559      0.000      -2.131      -1.790\n",
      "==================================================================================================\n",
      "Accuracy: 0.7639531717941737\n",
      "Classification Report:\n",
      "               precision    recall  f1-score   support\n",
      "\n",
      "           0       0.98      0.77      0.86      3521\n",
      "           1       0.11      0.70      0.20       152\n",
      "\n",
      "    accuracy                           0.76      3673\n",
      "   macro avg       0.55      0.73      0.53      3673\n",
      "weighted avg       0.95      0.76      0.83      3673\n",
      "\n",
      "Confusion Matrix:\n",
      " [[2700  821]\n",
      " [  46  106]]\n",
      "ROC AUC: 0.8812669098192797\n",
      "PR-AUC: 0.24503678205539672\n"
     ]
    }
   ],
   "source": [
    "from sklearn.metrics import (\n",
    "    accuracy_score, confusion_matrix, classification_report,\n",
    "    roc_auc_score, recall_score, precision_score,\n",
    "    precision_recall_curve, auc\n",
    ")\n",
    "glm_smote_model = sm.GLM(y_train_sm, X_train_sm, family=sm.families.Binomial())\n",
    "glm_smote_results = glm_smote_model.fit()\n",
    "print(glm_smote_results.summary())\n",
    "X_test_aligned = X_test.reindex(columns=X_train_sm.columns, fill_value=0)\n",
    "probs_smote = glm_smote_results.predict(X_test_aligned)\n",
    "glm_smote_pred = (probs_smote >= 0.4).astype(int)\n",
    "print(\"Accuracy:\", accuracy_score(y_test, glm_smote_pred))\n",
    "print(\"Classification Report:\\n\", classification_report(y_test, glm_smote_pred))\n",
    "print(\"Confusion Matrix:\\n\", confusion_matrix(y_test, glm_smote_pred))\n",
    "print(\"ROC AUC:\", roc_auc_score(y_test, probs))\n",
    "\n",
    "prec, rec, thr = precision_recall_curve(y_test, probs)\n",
    "pr_auc = auc(rec, prec)\n",
    "print(\"PR-AUC:\", pr_auc)"
   ]
  },
  {
   "cell_type": "code",
   "execution_count": 44,
   "id": "408764bb-e27b-4673-8349-b6baf78a835c",
   "metadata": {},
   "outputs": [
    {
     "data": {
      "image/png": "[encoded data removed]",
      "text/plain": [
       "<Figure size 640x480 with 1 Axes>"
      ]
     },
     "metadata": {},
     "output_type": "display_data"
    }
   ],
   "source": [
    "from sklearn.pipeline import Pipeline\n",
    "from sklearn.preprocessing import StandardScaler\n",
    "from sklearn.neighbors import KNeighborsClassifier\n",
    "from sklearn.model_selection import cross_val_score\n",
    "import numpy as np\n",
    "\n",
    "k_values = range(1, 21)\n",
    "cv_scores = []\n",
    "for k in k_values:\n",
    "    knn_pipe = Pipeline([\n",
    "        ('scaler', StandardScaler()),\n",
    "        ('knn', KNeighborsClassifier(n_neighbors=k))\n",
    "    ])\n",
    "    scores = cross_val_score(knn_pipe, X_train, y_train, cv=5, scoring='accuracy')\n",
    "    cv_scores.append(scores.mean())\n",
    "\n",
    "import matplotlib.pyplot as plt\n",
    "plt.plot(k_values, cv_scores, marker='o')\n",
    "plt.xlabel('Number of Neighbors (k)')\n",
    "plt.ylabel('CV Accuracy')\n",
    "plt.title('KNN Tuning Curve')\n",
    "plt.show()"
   ]
  },
  {
   "cell_type": "code",
   "execution_count": 45,
   "id": "9afbf296-85c0-4a76-a283-dd11b146feac",
   "metadata": {},
   "outputs": [],
   "source": [
    "knn = Pipeline([\n",
    "    ('scaler', StandardScaler()),\n",
    "    ('knn', KNeighborsClassifier(n_neighbors=7))\n",
    "])\n",
    "knn.fit(X_train, y_train)\n",
    "\n",
    "knn_pred = knn.predict(X_test)\n",
    "\n",
    "k_values = range(1, 21)\n",
    "cv_scores = []"
   ]
  },
  {
   "cell_type": "code",
   "execution_count": 26,
   "id": "fce09444-f4fb-4530-811c-1db8d720404d",
   "metadata": {},
   "outputs": [
    {
     "name": "stdout",
     "output_type": "stream",
     "text": [
      "KNN Accuracy: 0.9575279063435883\n",
      "KNN Confusion Matrix:\n",
      " [[3514    7]\n",
      " [ 149    3]]\n",
      "\n",
      "KNN Classification Report:\n",
      "               precision    recall  f1-score   support\n",
      "\n",
      "           0       0.96      1.00      0.98      3521\n",
      "           1       0.30      0.02      0.04       152\n",
      "\n",
      "    accuracy                           0.96      3673\n",
      "   macro avg       0.63      0.51      0.51      3673\n",
      "weighted avg       0.93      0.96      0.94      3673\n",
      "\n"
     ]
    }
   ],
   "source": [
    "print(\"KNN Accuracy:\", accuracy_score(y_test, knn_pred))\n",
    "print(\"KNN Confusion Matrix:\\n\", confusion_matrix(y_test, knn_pred))\n",
    "print(\"\\nKNN Classification Report:\\n\", classification_report(y_test, knn_pred))"
   ]
  }
 ],
 "metadata": {
  "kernelspec": {
   "display_name": "Python 3 (ipykernel)",
   "language": "python",
   "name": "python3"
  },
  "language_info": {
   "codemirror_mode": {
    "name": "ipython",
    "version": 3
   },
   "file_extension": ".py",
   "mimetype": "text/x-python",
   "name": "python",
   "nbconvert_exporter": "python",
   "pygments_lexer": "ipython3",
   "version": "3.13.5"
  }
 },
 "nbformat": 4,
 "nbformat_minor": 5
}

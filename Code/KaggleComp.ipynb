{
 "cells": [
  {
   "cell_type": "code",
   "execution_count": 27,
   "id": "f84cb0d0-fddf-49b4-9ec6-612409082bb9",
   "metadata": {},
   "outputs": [
    {
     "name": "stdout",
     "output_type": "stream",
     "text": [
      "   id  gender   age  hypertension  heart_disease ever_married work_type  \\\n",
      "0   1    Male  50.0             0              0          Yes   Private   \n",
      "1   2  Female  52.0             0              0          Yes   Private   \n",
      "2   3  Female  26.0             0              0           No  Govt_job   \n",
      "3   4  Female  37.0             0              0          Yes   Private   \n",
      "4   5    Male  59.0             0              0          Yes   Private   \n",
      "\n",
      "  Residence_type  avg_glucose_level   bmi   smoking_status  stroke  \n",
      "0          Rural              88.10  29.1  formerly smoked       0  \n",
      "1          Rural              80.07  38.9           smokes       0  \n",
      "2          Urban              89.11  23.3           smokes       0  \n",
      "3          Rural              81.36  36.1     never smoked       0  \n",
      "4          Rural              82.59  29.6     never smoked       1  \n",
      "<class 'pandas.core.frame.DataFrame'>\n",
      "RangeIndex: 12243 entries, 0 to 12242\n",
      "Data columns (total 12 columns):\n",
      " #   Column             Non-Null Count  Dtype  \n",
      "---  ------             --------------  -----  \n",
      " 0   id                 12243 non-null  int64  \n",
      " 1   gender             12243 non-null  object \n",
      " 2   age                12243 non-null  float64\n",
      " 3   hypertension       12243 non-null  int64  \n",
      " 4   heart_disease      12243 non-null  int64  \n",
      " 5   ever_married       12243 non-null  object \n",
      " 6   work_type          12243 non-null  object \n",
      " 7   Residence_type     12243 non-null  object \n",
      " 8   avg_glucose_level  12243 non-null  float64\n",
      " 9   bmi                12243 non-null  float64\n",
      " 10  smoking_status     12243 non-null  object \n",
      " 11  stroke             12243 non-null  int64  \n",
      "dtypes: float64(3), int64(4), object(5)\n",
      "memory usage: 1.1+ MB\n",
      "None\n"
     ]
    }
   ],
   "source": [
    "import pandas as pd\n",
    "train_df = pd.read_csv(\"/Users/kaylenamann/Downloads/BC Grad/2025Fall_ADAN7430/assignments/HW2/RawData/train.csv\")\n",
    "print(train_df.head())\n",
    "print(train_df.info())"
   ]
  },
  {
   "cell_type": "code",
   "execution_count": 46,
   "id": "f57c547f-e82a-45a1-b52d-e606a5af573a",
   "metadata": {},
   "outputs": [],
   "source": [
    "import statsmodels.api as sm\n",
    "feature_cols = ['gender', 'age', 'hypertension', 'heart_disease', 'Residence_type', 'avg_glucose_level', 'bmi', 'smoking_status']\n",
    "X = pd.get_dummies(train_df[feature_cols], drop_first=True)\n",
    "y = train_df['stroke']\n",
    "X = sm.add_constant(X, has_constant='add')\n",
    "X = X.astype(float)"
   ]
  },
  {
   "cell_type": "code",
   "execution_count": 47,
   "id": "735d8e7a-b441-4277-a5c4-671876a241e1",
   "metadata": {},
   "outputs": [],
   "source": [
    "from sklearn.model_selection import train_test_split\n",
    "X_train, X_test, y_train, y_test = train_test_split(X, y, test_size=0.3, random_state=39, stratify=y)\n",
    "X_test = X_test.reindex(columns=X_train.columns, fill_value=0)"
   ]
  },
  {
   "cell_type": "code",
   "execution_count": 39,
   "id": "48f9881e-bf47-4c8e-a0ba-3802c1a54a41",
   "metadata": {},
   "outputs": [
    {
     "name": "stdout",
     "output_type": "stream",
     "text": [
      "Original AIC: 2199.9740854789416\n",
      "Box–Tidwell AIC: 2202.8547662401356\n",
      "\n",
      "Box–Tidwell model summary:\n",
      "                 Generalized Linear Model Regression Results                  \n",
      "==============================================================================\n",
      "Dep. Variable:                 stroke   No. Observations:                 8570\n",
      "Model:                            GLM   Df Residuals:                     8550\n",
      "Model Family:                Binomial   Df Model:                           19\n",
      "Link Function:                  Logit   Scale:                          1.0000\n",
      "Method:                          IRLS   Log-Likelihood:                -1081.4\n",
      "Date:                Wed, 15 Oct 2025   Deviance:                       2162.9\n",
      "Time:                        20:19:30   Pearson chi2:                 7.22e+03\n",
      "No. Iterations:                    26   Pseudo R-squ. (CS):            0.08769\n",
      "Covariance Type:            nonrobust                                         \n",
      "==================================================================================================\n",
      "                                     coef    std err          z      P>|z|      [0.025      0.975]\n",
      "--------------------------------------------------------------------------------------------------\n",
      "const                            -13.7614      3.159     -4.356      0.000     -19.953      -7.570\n",
      "age                                0.4036      0.204      1.977      0.048       0.004       0.804\n",
      "hypertension                       0.2104      0.167      1.260      0.208      -0.117       0.538\n",
      "heart_disease                      0.0205      0.211      0.097      0.923      -0.394       0.435\n",
      "avg_glucose_level                 -0.0177      0.046     -0.385      0.700      -0.107       0.072\n",
      "bmi                                0.1400      0.294      0.477      0.634      -0.436       0.716\n",
      "gender_Male                        0.1157      0.122      0.948      0.343      -0.123       0.355\n",
      "gender_Other                       0.2573   5.87e+05   4.38e-07      1.000   -1.15e+06    1.15e+06\n",
      "ever_married_Yes                   0.0829      0.276      0.300      0.764      -0.458       0.624\n",
      "work_type_Never_worked           -19.2839   1.25e+05     -0.000      1.000   -2.44e+05    2.44e+05\n",
      "work_type_Private                 -0.1041      0.185     -0.561      0.575      -0.467       0.259\n",
      "work_type_Self-employed           -0.4835      0.214     -2.255      0.024      -0.904      -0.063\n",
      "work_type_children               -17.8263   1.42e+04     -0.001      0.999   -2.78e+04    2.78e+04\n",
      "Residence_type_Urban              -0.0126      0.118     -0.107      0.915      -0.243       0.218\n",
      "smoking_status_formerly smoked    -0.0261      0.191     -0.137      0.891      -0.401       0.348\n",
      "smoking_status_never smoked        0.1615      0.171      0.945      0.345      -0.173       0.496\n",
      "smoking_status_smokes              0.3527      0.212      1.663      0.096      -0.063       0.768\n",
      "age_logint                        -0.0609      0.040     -1.528      0.127      -0.139       0.017\n",
      "avg_glucose_level_logint           0.0045      0.008      0.586      0.558      -0.011       0.020\n",
      "bmi_logint                        -0.0269      0.066     -0.410      0.682      -0.155       0.102\n",
      "==================================================================================================\n"
     ]
    }
   ],
   "source": [
    "import matplotlib.pyplot as plt\n",
    "import numpy as np\n",
    "import statsmodels.api as sm\n",
    "\n",
    "continuous_vars = ['age', 'avg_glucose_level', 'bmi']\n",
    "\n",
    "model_original = sm.GLM(y_train, X_train, family=sm.families.Binomial())\n",
    "results_original = model_original.fit()\n",
    "\n",
    "X_train_bt = X_train.copy()\n",
    "for var in continuous_vars:\n",
    "    X_train_bt[f'{var}_logint'] = X_train_bt[var] * np.log(X_train_bt[var] + 1)\n",
    "    \n",
    "model_bt = sm.GLM(y_train, X_train_bt, family=sm.families.Binomial())\n",
    "results_bt = model_bt.fit()\n",
    "\n",
    "print(\"Original AIC:\", results_original.aic)\n",
    "print(\"Box–Tidwell AIC:\", results_bt.aic)\n",
    "print(\"\\nBox–Tidwell model summary:\")\n",
    "print(results_bt.summary())"
   ]
  },
  {
   "cell_type": "code",
   "execution_count": 40,
   "id": "39ba3fca-a922-4a84-9116-632520970332",
   "metadata": {},
   "outputs": [
    {
     "name": "stdout",
     "output_type": "stream",
     "text": [
      "                 Generalized Linear Model Regression Results                  \n",
      "==============================================================================\n",
      "Dep. Variable:                 stroke   No. Observations:                 8570\n",
      "Model:                            GLM   Df Residuals:                     8553\n",
      "Model Family:                Binomial   Df Model:                           16\n",
      "Link Function:                  Logit   Scale:                          1.0000\n",
      "Method:                          IRLS   Log-Likelihood:                -1083.0\n",
      "Date:                Wed, 15 Oct 2025   Deviance:                       2166.0\n",
      "Time:                        20:19:38   Pearson chi2:                 6.37e+03\n",
      "No. Iterations:                    26   Pseudo R-squ. (CS):            0.08736\n",
      "Covariance Type:            nonrobust                                         \n",
      "==================================================================================================\n",
      "                                     coef    std err          z      P>|z|      [0.025      0.975]\n",
      "--------------------------------------------------------------------------------------------------\n",
      "const                            -10.1224      0.574    -17.640      0.000     -11.247      -8.998\n",
      "age                                0.0929      0.005     18.375      0.000       0.083       0.103\n",
      "hypertension                       0.2087      0.168      1.242      0.214      -0.121       0.538\n",
      "heart_disease                      0.0048      0.212      0.023      0.982      -0.410       0.420\n",
      "avg_glucose_level                  0.0093      0.001      6.628      0.000       0.007       0.012\n",
      "bmi                                0.0218      0.011      2.048      0.041       0.001       0.043\n",
      "gender_Male                        0.1309      0.122      1.077      0.281      -0.107       0.369\n",
      "gender_Other                      -0.0295   5.87e+05  -5.02e-08      1.000   -1.15e+06    1.15e+06\n",
      "ever_married_Yes                   0.1901      0.270      0.704      0.481      -0.339       0.719\n",
      "work_type_Never_worked           -20.5453    1.3e+05     -0.000      1.000   -2.54e+05    2.54e+05\n",
      "work_type_Private                 -0.1268      0.185     -0.686      0.493      -0.489       0.236\n",
      "work_type_Self-employed           -0.5185      0.214     -2.425      0.015      -0.938      -0.099\n",
      "work_type_children               -19.5311   1.69e+04     -0.001      0.999   -3.32e+04    3.31e+04\n",
      "Residence_type_Urban              -0.0159      0.118     -0.135      0.893      -0.247       0.215\n",
      "smoking_status_formerly smoked    -0.0153      0.191     -0.080      0.936      -0.390       0.360\n",
      "smoking_status_never smoked        0.1617      0.171      0.945      0.345      -0.174       0.497\n",
      "smoking_status_smokes              0.3635      0.212      1.712      0.087      -0.053       0.780\n",
      "==================================================================================================\n"
     ]
    }
   ],
   "source": [
    "glm_train = sm.GLM(y_train,\n",
    "             X_train,\n",
    "             family=sm.families.Binomial())\n",
    "results = glm_train.fit()\n",
    "print(results.summary())"
   ]
  },
  {
   "cell_type": "code",
   "execution_count": 41,
   "id": "cc1b2e0c-ff6d-4bb1-bd6a-a179ccf6d2dd",
   "metadata": {},
   "outputs": [
    {
     "name": "stdout",
     "output_type": "stream",
     "text": [
      "Accuracy: 0.9569833923223523\n",
      "Confusion Matrix:\n",
      " [[3510   11]\n",
      " [ 147    5]]\n",
      "Classification Report:\n",
      "               precision    recall  f1-score   support\n",
      "\n",
      "           0       0.96      1.00      0.98      3521\n",
      "           1       0.31      0.03      0.06       152\n",
      "\n",
      "    accuracy                           0.96      3673\n",
      "   macro avg       0.64      0.51      0.52      3673\n",
      "weighted avg       0.93      0.96      0.94      3673\n",
      "\n"
     ]
    }
   ],
   "source": [
    "from sklearn.metrics import accuracy_score, confusion_matrix, classification_report\n",
    "X_test_aligned = X_test.reindex(columns=X_train.columns, fill_value=0)\n",
    "probs = results.predict(X_test_aligned)\n",
    "glm_pred = (probs >= 0.4).astype(int)\n",
    "print(\"Accuracy:\", accuracy_score(y_test, glm_pred))\n",
    "print(\"Confusion Matrix:\\n\", confusion_matrix(y_test, glm_pred))\n",
    "print(\"Classification Report:\\n\", classification_report(y_test, glm_pred))"
   ]
  },
  {
   "cell_type": "code",
   "execution_count": 42,
   "id": "33d140c6-7769-4f17-95c0-3f6eb3a09263",
   "metadata": {},
   "outputs": [
    {
     "name": "stdout",
     "output_type": "stream",
     "text": [
      "Before balancing: Counter({0: 8216, 1: 354})\n",
      "After balancing: Counter({0: 8216, 1: 8216})\n"
     ]
    }
   ],
   "source": [
    "from imblearn.over_sampling import SMOTENC\n",
    "from collections import Counter\n",
    "\n",
    "cat_cols = [col for col in X_train.columns if 'gender_' in col or 'Residence_type_' in col or 'smoking_status_' in col or col in ['heart_disease', 'hypertension']]\n",
    "cat_indices = [X_train.columns.get_loc(col) for col in cat_cols]\n",
    "\n",
    "print('Before balancing:', Counter(y_train))\n",
    "smt = SMOTENC(categorical_features=cat_indices, random_state=42)\n",
    "X_train_sm, y_train_sm = smt.fit_resample(X_train, y_train)\n",
    "print('After balancing:', Counter(y_train_sm))"
   ]
  },
  {
   "cell_type": "code",
   "execution_count": 43,
   "id": "3a094e1d-9c75-448b-b4cd-707914aa6544",
   "metadata": {},
   "outputs": [
    {
     "name": "stdout",
     "output_type": "stream",
     "text": [
      "                 Generalized Linear Model Regression Results                  \n",
      "==============================================================================\n",
      "Dep. Variable:                 stroke   No. Observations:                16432\n",
      "Model:                            GLM   Df Residuals:                    16415\n",
      "Model Family:                Binomial   Df Model:                           16\n",
      "Link Function:                  Logit   Scale:                          1.0000\n",
      "Method:                          IRLS   Log-Likelihood:                -5932.0\n",
      "Date:                Wed, 15 Oct 2025   Deviance:                       11864.\n",
      "Time:                        20:19:50   Pearson chi2:                 1.44e+04\n",
      "No. Iterations:                    26   Pseudo R-squ. (CS):             0.4854\n",
      "Covariance Type:            nonrobust                                         \n",
      "==================================================================================================\n",
      "                                     coef    std err          z      P>|z|      [0.025      0.975]\n",
      "--------------------------------------------------------------------------------------------------\n",
      "const                             -8.0996      0.219    -36.925      0.000      -8.530      -7.670\n",
      "age                                0.1101      0.002     55.398      0.000       0.106       0.114\n",
      "hypertension                      -2.0173      0.120    -16.801      0.000      -2.253      -1.782\n",
      "heart_disease                     -2.2188      0.161    -13.755      0.000      -2.535      -1.903\n",
      "avg_glucose_level                  0.0100      0.001     13.667      0.000       0.009       0.011\n",
      "bmi                                0.0565      0.004     12.997      0.000       0.048       0.065\n",
      "gender_Male                        0.0629      0.049      1.286      0.198      -0.033       0.159\n",
      "gender_Other                      -0.0500   5.87e+05  -8.52e-08      1.000   -1.15e+06    1.15e+06\n",
      "ever_married_Yes                   0.5462      0.109      5.027      0.000       0.333       0.759\n",
      "work_type_Never_worked           -22.8281   1.26e+05     -0.000      1.000   -2.47e+05    2.47e+05\n",
      "work_type_Private                 -0.2910      0.075     -3.858      0.000      -0.439      -0.143\n",
      "work_type_Self-employed           -0.6497      0.092     -7.045      0.000      -0.831      -0.469\n",
      "work_type_children               -22.3873   1.67e+04     -0.001      0.999   -3.28e+04    3.28e+04\n",
      "Residence_type_Urban               0.2547      0.047      5.456      0.000       0.163       0.346\n",
      "smoking_status_formerly smoked    -2.2636      0.075    -30.036      0.000      -2.411      -2.116\n",
      "smoking_status_never smoked       -1.2409      0.056    -22.342      0.000      -1.350      -1.132\n",
      "smoking_status_smokes             -1.9607      0.087    -22.559      0.000      -2.131      -1.790\n",
      "==================================================================================================\n",
      "Accuracy: 0.7639531717941737\n",
      "Classification Report:\n",
      "               precision    recall  f1-score   support\n",
      "\n",
      "           0       0.98      0.77      0.86      3521\n",
      "           1       0.11      0.70      0.20       152\n",
      "\n",
      "    accuracy                           0.76      3673\n",
      "   macro avg       0.55      0.73      0.53      3673\n",
      "weighted avg       0.95      0.76      0.83      3673\n",
      "\n",
      "Confusion Matrix:\n",
      " [[2700  821]\n",
      " [  46  106]]\n",
      "ROC AUC: 0.8812669098192797\n",
      "PR-AUC: 0.24503678205539672\n"
     ]
    }
   ],
   "source": [
    "from sklearn.metrics import (\n",
    "    accuracy_score, confusion_matrix, classification_report,\n",
    "    roc_auc_score, recall_score, precision_score,\n",
    "    precision_recall_curve, auc\n",
    ")\n",
    "glm_smote_model = sm.GLM(y_train_sm, X_train_sm, family=sm.families.Binomial())\n",
    "glm_smote_results = glm_smote_model.fit()\n",
    "print(glm_smote_results.summary())\n",
    "X_test_aligned = X_test.reindex(columns=X_train_sm.columns, fill_value=0)\n",
    "probs_smote = glm_smote_results.predict(X_test_aligned)\n",
    "glm_smote_pred = (probs_smote >= 0.4).astype(int)\n",
    "print(\"Accuracy:\", accuracy_score(y_test, glm_smote_pred))\n",
    "print(\"Classification Report:\\n\", classification_report(y_test, glm_smote_pred))\n",
    "print(\"Confusion Matrix:\\n\", confusion_matrix(y_test, glm_smote_pred))\n",
    "print(\"ROC AUC:\", roc_auc_score(y_test, probs))\n",
    "\n",
    "prec, rec, thr = precision_recall_curve(y_test, probs)\n",
    "pr_auc = auc(rec, prec)\n",
    "print(\"PR-AUC:\", pr_auc)"
   ]
  },
  {
   "cell_type": "code",
   "execution_count": 44,
   "id": "408764bb-e27b-4673-8349-b6baf78a835c",
   "metadata": {},
   "outputs": [
    {
     "data": {
      "image/png": "[encoded data removed]",
      "text/plain": [
       "<Figure size 640x480 with 1 Axes>"
      ]
     },
     "metadata": {},
     "output_type": "display_data"
    }
   ],
   "source": [
    "from sklearn.pipeline import Pipeline\n",
    "from sklearn.preprocessing import StandardScaler\n",
    "from sklearn.neighbors import KNeighborsClassifier\n",
    "from sklearn.model_selection import cross_val_score\n",
    "import numpy as np\n",
    "\n",
    "k_values = range(1, 21)\n",
    "cv_scores = []\n",
    "for k in k_values:\n",
    "    knn_pipe = Pipeline([\n",
    "        ('scaler', StandardScaler()),\n",
    "        ('knn', KNeighborsClassifier(n_neighbors=k))\n",
    "    ])\n",
    "    scores = cross_val_score(knn_pipe, X_train, y_train, cv=5, scoring='accuracy')\n",
    "    cv_scores.append(scores.mean())\n",
    "\n",
    "import matplotlib.pyplot as plt\n",
    "plt.plot(k_values, cv_scores, marker='o')\n",
    "plt.xlabel('Number of Neighbors (k)')\n",
    "plt.ylabel('CV Accuracy')\n",
    "plt.title('KNN Tuning Curve')\n",
    "plt.show()"
   ]
  },
  {
   "cell_type": "code",
   "execution_count": 45,
   "id": "9afbf296-85c0-4a76-a283-dd11b146feac",
   "metadata": {},
   "outputs": [],
   "source": [
    "knn = Pipeline([\n",
    "    ('scaler', StandardScaler()),\n",
    "    ('knn', KNeighborsClassifier(n_neighbors=7))\n",
    "])\n",
    "knn.fit(X_train, y_train)\n",
    "\n",
    "knn_pred = knn.predict(X_test)\n",
    "\n",
    "k_values = range(1, 21)\n",
    "cv_scores = []"
   ]
  },
  {
   "cell_type": "code",
   "execution_count": 26,
   "id": "fce09444-f4fb-4530-811c-1db8d720404d",
   "metadata": {},
   "outputs": [
    {
     "name": "stdout",
     "output_type": "stream",
     "text": [
      "KNN Accuracy: 0.9575279063435883\n",
      "KNN Confusion Matrix:\n",
      " [[3514    7]\n",
      " [ 149    3]]\n",
      "\n",
      "KNN Classification Report:\n",
      "               precision    recall  f1-score   support\n",
      "\n",
      "           0       0.96      1.00      0.98      3521\n",
      "           1       0.30      0.02      0.04       152\n",
      "\n",
      "    accuracy                           0.96      3673\n",
      "   macro avg       0.63      0.51      0.51      3673\n",
      "weighted avg       0.93      0.96      0.94      3673\n",
      "\n"
     ]
    }
   ],
   "source": [
    "print(\"KNN Accuracy:\", accuracy_score(y_test, knn_pred))\n",
    "print(\"KNN Confusion Matrix:\\n\", confusion_matrix(y_test, knn_pred))\n",
    "print(\"\\nKNN Classification Report:\\n\", classification_report(y_test, knn_pred))"
   ]
  }
 ],
 "metadata": {
  "kernelspec": {
   "display_name": "Python 3 (ipykernel)",
   "language": "python",
   "name": "python3"
  },
  "language_info": {
   "codemirror_mode": {
    "name": "ipython",
    "version": 3
   },
   "file_extension": ".py",
   "mimetype": "text/x-python",
   "name": "python",
   "nbconvert_exporter": "python",
   "pygments_lexer": "ipython3",
   "version": "3.13.5"
  }
 },
 "nbformat": 4,
 "nbformat_minor": 5
}
